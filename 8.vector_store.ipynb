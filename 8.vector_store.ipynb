{
 "cells": [
  {
   "cell_type": "code",
   "execution_count": 1,
   "id": "834467c4",
   "metadata": {},
   "outputs": [],
   "source": [
    "from dotenv import load_dotenv\n",
    "import os\n",
    "import pinecone\n",
    "from pinecone import Pinecone as PineconeClient\n",
    "from pinecone import ServerlessSpec\n",
    "import pandas as pd\n",
    "from openai import OpenAI"
   ]
  },
  {
   "cell_type": "code",
   "execution_count": 2,
   "id": "fcecee7e",
   "metadata": {},
   "outputs": [],
   "source": [
    "movies = [\n",
    "  {\n",
    "      \"id\": \"movie1\",\n",
    "      \"title\": \"7번방의 선물\",\n",
    "      \"year\": 2013,\n",
    "      \"genre\": \"드라마\",\n",
    "      \"description\": \"억울한 누명을 쓰고 교도소에 수감된 아빠와 그의 어린 딸의 감동적인 스토리\",\n",
    "  },\n",
    "  {\n",
    "      \"id\": \"movie2\",\n",
    "      \"title\": \"미나리\",\n",
    "      \"year\": 2020,\n",
    "      \"genre\": \"드라마\",\n",
    "      \"description\": \"한국계 미국인 가족의 따뜻하고 감성적인 성장 이야기\",\n",
    "  },\n",
    "  {\n",
    "      \"id\": \"movie3\",\n",
    "      \"title\": \"기생충\",\n",
    "      \"year\": 2019,\n",
    "      \"genre\": \"드라마\",\n",
    "      \"description\": \"가난한 가족과 부자 가족 사이의 빈부격차를 그린 사회 풍자 드라마\",\n",
    "  },\n",
    "  {\n",
    "      \"id\": \"movie4\",\n",
    "      \"title\": \"범죄도시\",\n",
    "      \"year\": 2017,\n",
    "      \"genre\": \"범죄\",\n",
    "      \"description\": \"형사가 범죄 조직을 소탕하는 범죄 액션 영화\",\n",
    "  },\n",
    "  {\n",
    "      \"id\": \"movie5\",\n",
    "      \"title\": \"범죄도시 2\",\n",
    "      \"year\": 2022,\n",
    "      \"genre\": \"범죄\",\n",
    "      \"description\": \"형사와 범죄 조직의 대결을 그린 범죄 액션 영화의 속편\",\n",
    "  },\n",
    "  {\n",
    "      \"id\": \"movie6\",\n",
    "      \"title\": \"헤어질 결심\",\n",
    "      \"year\": 2022,\n",
    "      \"genre\": \"범죄\",\n",
    "      \"description\": \"산에서 발생한 의문의 죽음(살인 사건)을 수사하던 형사가 피의자에게 이끌리며 벌어지는 미스터리 멜로 영화\",\n",
    "  },\n",
    "  {\n",
    "      \"id\": \"movie7\",\n",
    "      \"title\": \"다만 악에서 구하소서\",\n",
    "      \"year\": 2020,\n",
    "      \"genre\": \"범죄\",\n",
    "      \"description\": \"청부 살인업자와 범죄 조직의 마지막 거래를 그린 범죄 액션 영화\",\n",
    "  },\n",
    "]"
   ]
  },
  {
   "cell_type": "code",
   "execution_count": 3,
   "id": "9b381329",
   "metadata": {},
   "outputs": [
    {
     "name": "stderr",
     "output_type": "stream",
     "text": [
      "C:\\Users\\user\\AppData\\Local\\Temp\\ipykernel_6096\\2439254196.py:2: LangChainDeprecationWarning: The class `OpenAIEmbeddings` was deprecated in LangChain 0.0.9 and will be removed in 1.0. An updated version of the class exists in the :class:`~langchain-openai package and should be used instead. To use it run `pip install -U :class:`~langchain-openai` and import as `from :class:`~langchain_openai import OpenAIEmbeddings``.\n",
      "  embeddings = OpenAIEmbeddings(\n"
     ]
    }
   ],
   "source": [
    "from langchain.embeddings import OpenAIEmbeddings\n",
    "embeddings = OpenAIEmbeddings(\n",
    "  model=\"text-embedding-3-small\",\n",
    "  openai_api_key=os.getenv(\"OPENAI_API_KEY\"),\n",
    ")"
   ]
  },
  {
   "cell_type": "code",
   "execution_count": 4,
   "id": "3f2e076f",
   "metadata": {},
   "outputs": [
    {
     "data": {
      "text/plain": [
       "['억울한 누명을 쓰고 교도소에 수감된 아빠와 그의 어린 딸의 감동적인 스토리',\n",
       " '한국계 미국인 가족의 따뜻하고 감성적인 성장 이야기',\n",
       " '가난한 가족과 부자 가족 사이의 빈부격차를 그린 사회 풍자 드라마',\n",
       " '형사가 범죄 조직을 소탕하는 범죄 액션 영화',\n",
       " '형사와 범죄 조직의 대결을 그린 범죄 액션 영화의 속편',\n",
       " '산에서 발생한 의문의 죽음(살인 사건)을 수사하던 형사가 피의자에게 이끌리며 벌어지는 미스터리 멜로 영화',\n",
       " '청부 살인업자와 범죄 조직의 마지막 거래를 그린 범죄 액션 영화']"
      ]
     },
     "execution_count": 4,
     "metadata": {},
     "output_type": "execute_result"
    }
   ],
   "source": [
    "descriptions = [movie[\"description\"] for movie in movies]\n",
    "descriptions"
   ]
  },
  {
   "cell_type": "code",
   "execution_count": 5,
   "id": "5ac70847",
   "metadata": {},
   "outputs": [],
   "source": [
    "movie_vectors = embeddings.embed_documents(descriptions)"
   ]
  },
  {
   "cell_type": "code",
   "execution_count": 6,
   "id": "f4a2b9cf",
   "metadata": {},
   "outputs": [
    {
     "data": {
      "text/plain": [
       "[0.0772140365224404,\n",
       " 0.010441011297606051,\n",
       " -0.0856581367755727,\n",
       " 0.023411448032334532,\n",
       " -0.0413076077416376]"
      ]
     },
     "execution_count": 6,
     "metadata": {},
     "output_type": "execute_result"
    }
   ],
   "source": [
    "movie_vectors[0][:5]"
   ]
  },
  {
   "cell_type": "code",
   "execution_count": 8,
   "id": "0f9ba582",
   "metadata": {},
   "outputs": [
    {
     "name": "stderr",
     "output_type": "stream",
     "text": [
      "c:\\Users\\user\\Downloads\\Data_A\\prompt_basic\\.venv\\Lib\\site-packages\\tqdm\\auto.py:21: TqdmWarning: IProgress not found. Please update jupyter and ipywidgets. See https://ipywidgets.readthedocs.io/en/stable/user_install.html\n",
      "  from .autonotebook import tqdm as notebook_tqdm\n"
     ]
    }
   ],
   "source": [
    "pc = PineconeClient(api_key=os.getenv(\"PINECONE_API_KEY\"))\n",
    "index_name = \"movie-vector-index\"\n",
    "if not pc.has_index(index_name):\n",
    "  pc.create_index(\n",
    "    index_name, dimension=1536, spec=ServerlessSpec(cloud=\"aws\", region=\"us-east-1\")\n",
    "  )\n",
    "# 생성된 인덱스 연결\n",
    "index = pc.Index(index_name)"
   ]
  },
  {
   "cell_type": "code",
   "execution_count": 9,
   "id": "8b69d026",
   "metadata": {},
   "outputs": [
    {
     "name": "stdout",
     "output_type": "stream",
     "text": [
      "7번방의 선물 1536\n",
      "미나리 1536\n",
      "기생충 1536\n",
      "범죄도시 1536\n",
      "범죄도시 2 1536\n",
      "헤어질 결심 1536\n",
      "다만 악에서 구하소서 1536\n"
     ]
    }
   ],
   "source": [
    "vector_data = []\n",
    "for movie, vector in zip(movies, movie_vectors):\n",
    "  print(movie[\"title\"], len(vector))\n",
    "  meta = {\n",
    "    \"title\": movie[\"title\"],\n",
    "    \"year\": movie[\"year\"],\n",
    "    \"genre\": movie[\"genre\"],\n",
    "    \"description\": movie[\"description\"],\n",
    "  }\n",
    "  vector_data.append((movie[\"id\"], vector, meta))"
   ]
  },
  {
   "cell_type": "code",
   "execution_count": 10,
   "id": "332d5556",
   "metadata": {},
   "outputs": [
    {
     "data": {
      "text/plain": [
       "{'upserted_count': 7}"
      ]
     },
     "execution_count": 10,
     "metadata": {},
     "output_type": "execute_result"
    }
   ],
   "source": [
    "index.upsert(vectors=vector_data)"
   ]
  },
  {
   "cell_type": "markdown",
   "id": "f452def5",
   "metadata": {},
   "source": [
    "# KNN 검색"
   ]
  },
  {
   "cell_type": "code",
   "execution_count": 11,
   "id": "43645c9c",
   "metadata": {},
   "outputs": [
    {
     "data": {
      "text/plain": [
       "[0.011942672407744534,\n",
       " -0.015711813986873352,\n",
       " -0.11866442724554467,\n",
       " 0.023948870327582927,\n",
       " 0.03150832617301168]"
      ]
     },
     "execution_count": 11,
     "metadata": {},
     "output_type": "execute_result"
    }
   ],
   "source": [
    "query1 = \"감성적인 드라마 영화 추천해줘.\"\n",
    "query_vector1 = embeddings.embed_query(query1)\n",
    "query_vector1[:5]"
   ]
  },
  {
   "cell_type": "code",
   "execution_count": 13,
   "id": "bea1c840",
   "metadata": {},
   "outputs": [
    {
     "name": "stdout",
     "output_type": "stream",
     "text": [
      "제목: 기생충 - 장르: 드라마\n",
      "제목: 7번방의 선물 - 장르: 드라마\n",
      "제목: 미나리 - 장르: 드라마\n"
     ]
    }
   ],
   "source": [
    "result1 = index.query(vector=query_vector1, top_k=3, include_metadata=True)\n",
    "for match in result1[\"matches\"]:\n",
    "  info = match[\"metadata\"]\n",
    "  print(f\"제목: {info['title']} - 장르: {info['genre']}\")"
   ]
  },
  {
   "cell_type": "markdown",
   "id": "b774c785",
   "metadata": {},
   "source": [
    "# 메타 데이터 기반 필터 검색"
   ]
  },
  {
   "cell_type": "code",
   "execution_count": 14,
   "id": "c873b305",
   "metadata": {},
   "outputs": [
    {
     "name": "stdout",
     "output_type": "stream",
     "text": [
      "제목: 범죄도시 2 - 장르: 범죄 - 연도: 2022.0\n",
      "제목: 헤어질 결심 - 장르: 범죄 - 연도: 2022.0\n",
      "제목: 다만 악에서 구하소서 - 장르: 범죄 - 연도: 2020.0\n"
     ]
    }
   ],
   "source": [
    "query2 = \"영화\" # 2020년 영화만 대상으로 검색\n",
    "query_vector2 = embeddings.embed_query(query2)\n",
    "filter_condition = {\"year\": {\"$gte\": 2020}}  #<gt <= gte lt lte\n",
    "result2 = index.query(vector=query_vector2, top_k=3, filter=filter_condition, include_metadata=True)\n",
    "for match in result2[\"matches\"]:\n",
    "  info = match[\"metadata\"]\n",
    "  print(f\"제목: {info['title']} - 장르: {info['genre']} - 연도: {info['year']}\")"
   ]
  },
  {
   "cell_type": "code",
   "execution_count": null,
   "id": "48e421d4",
   "metadata": {},
   "outputs": [],
   "source": [
    "\"\""
   ]
  }
 ],
 "metadata": {
  "kernelspec": {
   "display_name": "prompt_basic",
   "language": "python",
   "name": "python3"
  },
  "language_info": {
   "codemirror_mode": {
    "name": "ipython",
    "version": 3
   },
   "file_extension": ".py",
   "mimetype": "text/x-python",
   "name": "python",
   "nbconvert_exporter": "python",
   "pygments_lexer": "ipython3",
   "version": "3.13.2"
  }
 },
 "nbformat": 4,
 "nbformat_minor": 5
}
