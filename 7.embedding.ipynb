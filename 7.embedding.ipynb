{
 "cells": [
  {
   "cell_type": "code",
   "execution_count": 1,
   "id": "630468e1",
   "metadata": {},
   "outputs": [],
   "source": [
    "from dotenv import load_dotenv\n",
    "import os\n",
    "import pinecone\n",
    "from pinecone import Pinecone as PineconeClient\n",
    "from pinecone import ServerlessSpec"
   ]
  },
  {
   "cell_type": "code",
   "execution_count": 2,
   "id": "cf501af2",
   "metadata": {},
   "outputs": [],
   "source": [
    "pinecone_api_key = os.getenv(\"PINECONE_API_KEY\")\n",
    "pinecone_environment = os.getenv(\"PINECONE_ENVIRONMENT\")"
   ]
  },
  {
   "cell_type": "code",
   "execution_count": 3,
   "id": "0a7050b2",
   "metadata": {},
   "outputs": [],
   "source": [
    "pc = PineconeClient(api_key=pinecone_api_key)"
   ]
  },
  {
   "cell_type": "code",
   "execution_count": 6,
   "id": "6f849bed",
   "metadata": {},
   "outputs": [
    {
     "name": "stderr",
     "output_type": "stream",
     "text": [
      "c:\\Users\\user\\Downloads\\Data_A\\prompt_basic\\.venv\\Lib\\site-packages\\tqdm\\auto.py:21: TqdmWarning: IProgress not found. Please update jupyter and ipywidgets. See https://ipywidgets.readthedocs.io/en/stable/user_install.html\n",
      "  from .autonotebook import tqdm as notebook_tqdm\n"
     ]
    }
   ],
   "source": [
    "index_name = \"movie-index\"\n",
    "if not pc.has_index(index_name):\n",
    "  pc.create_index(\n",
    "    index_name,\n",
    "    dimension=1536,\n",
    "    spec=ServerlessSpec(\n",
    "      cloud=\"aws\",\n",
    "      region=\"us-east-1\"\n",
    "    )\n",
    "  )\n",
    "# 생성된 인덱스 연결\n",
    "index = pc.Index(index_name)"
   ]
  },
  {
   "cell_type": "code",
   "execution_count": 7,
   "id": "28befe70",
   "metadata": {},
   "outputs": [],
   "source": [
    "data = [\n",
    "  {\n",
    "      \"title\": \"응답하라 1988\",\n",
    "      \"year\": 2015,\n",
    "      \"genre\": [\"드라마\", \"코미디\"],\n",
    "      \"director\": \"신원호\",\n",
    "      \"actors\": [\"혜리\", \"박보검\", \"류준열\"],\n",
    "      \"rating\": 9.2,\n",
    "      \"synopsis\": \"1988년 서울, 쌍문동 이웃들 사이의 우정과 가족애를 그린 드라마.\",\n",
    "  },\n",
    "  {\n",
    "      \"title\": \"기생충\",\n",
    "      \"year\": 2019,\n",
    "      \"genre\": [\"드라마\", \"스릴러\"],\n",
    "      \"director\": \"봉준호\",\n",
    "      \"actors\": [\"송강호\", \"이선균\", \"조여정\"],\n",
    "      \"rating\": 8.6,\n",
    "      \"synopsis\": \"가난한 가족과 부유한 가족 사이 벌어지는 블랙코미디 풍자의 스릴러 영화.\",\n",
    "  },\n",
    "]"
   ]
  },
  {
   "cell_type": "code",
   "execution_count": 8,
   "id": "6f876f58",
   "metadata": {},
   "outputs": [
    {
     "name": "stderr",
     "output_type": "stream",
     "text": [
      "\u001b[2mResolved \u001b[1m87 packages\u001b[0m \u001b[2min 618ms\u001b[0m\u001b[0m\n",
      "\u001b[2mInstalled \u001b[1m3 packages\u001b[0m \u001b[2min 1.01s\u001b[0m\u001b[0m\n",
      " \u001b[32m+\u001b[39m \u001b[1mpandas\u001b[0m\u001b[2m==2.3.0\u001b[0m\n",
      " \u001b[32m+\u001b[39m \u001b[1mpytz\u001b[0m\u001b[2m==2025.2\u001b[0m\n",
      " \u001b[32m+\u001b[39m \u001b[1mtzdata\u001b[0m\u001b[2m==2025.2\u001b[0m\n"
     ]
    }
   ],
   "source": [
    "!uv add pandas"
   ]
  },
  {
   "cell_type": "code",
   "execution_count": 9,
   "id": "9fd7aaba",
   "metadata": {},
   "outputs": [
    {
     "data": {
      "text/html": [
       "<div>\n",
       "<style scoped>\n",
       "    .dataframe tbody tr th:only-of-type {\n",
       "        vertical-align: middle;\n",
       "    }\n",
       "\n",
       "    .dataframe tbody tr th {\n",
       "        vertical-align: top;\n",
       "    }\n",
       "\n",
       "    .dataframe thead th {\n",
       "        text-align: right;\n",
       "    }\n",
       "</style>\n",
       "<table border=\"1\" class=\"dataframe\">\n",
       "  <thead>\n",
       "    <tr style=\"text-align: right;\">\n",
       "      <th></th>\n",
       "      <th>title</th>\n",
       "      <th>year</th>\n",
       "      <th>genre</th>\n",
       "      <th>director</th>\n",
       "      <th>actors</th>\n",
       "      <th>rating</th>\n",
       "      <th>synopsis</th>\n",
       "    </tr>\n",
       "  </thead>\n",
       "  <tbody>\n",
       "    <tr>\n",
       "      <th>0</th>\n",
       "      <td>응답하라 1988</td>\n",
       "      <td>2015</td>\n",
       "      <td>[드라마, 코미디]</td>\n",
       "      <td>신원호</td>\n",
       "      <td>[혜리, 박보검, 류준열]</td>\n",
       "      <td>9.2</td>\n",
       "      <td>1988년 서울, 쌍문동 이웃들 사이의 우정과 가족애를 그린 드라마.</td>\n",
       "    </tr>\n",
       "    <tr>\n",
       "      <th>1</th>\n",
       "      <td>기생충</td>\n",
       "      <td>2019</td>\n",
       "      <td>[드라마, 스릴러]</td>\n",
       "      <td>봉준호</td>\n",
       "      <td>[송강호, 이선균, 조여정]</td>\n",
       "      <td>8.6</td>\n",
       "      <td>가난한 가족과 부유한 가족 사이 벌어지는 블랙코미디 풍자의 스릴러 영화.</td>\n",
       "    </tr>\n",
       "  </tbody>\n",
       "</table>\n",
       "</div>"
      ],
      "text/plain": [
       "       title  year       genre director           actors  rating  \\\n",
       "0  응답하라 1988  2015  [드라마, 코미디]      신원호   [혜리, 박보검, 류준열]     9.2   \n",
       "1        기생충  2019  [드라마, 스릴러]      봉준호  [송강호, 이선균, 조여정]     8.6   \n",
       "\n",
       "                                   synopsis  \n",
       "0    1988년 서울, 쌍문동 이웃들 사이의 우정과 가족애를 그린 드라마.  \n",
       "1  가난한 가족과 부유한 가족 사이 벌어지는 블랙코미디 풍자의 스릴러 영화.  "
      ]
     },
     "execution_count": 9,
     "metadata": {},
     "output_type": "execute_result"
    }
   ],
   "source": [
    "import pandas as pd\n",
    "df = pd.DataFrame(data)\n",
    "df.head(2)"
   ]
  },
  {
   "cell_type": "code",
   "execution_count": 10,
   "id": "c30adae6",
   "metadata": {},
   "outputs": [
    {
     "data": {
      "text/plain": [
       "['1988년 서울, 쌍문동 이웃들 사이의 우정과 가족애를 그린 드라마.',\n",
       " '가난한 가족과 부유한 가족 사이 벌어지는 블랙코미디 풍자의 스릴러 영화.']"
      ]
     },
     "execution_count": 10,
     "metadata": {},
     "output_type": "execute_result"
    }
   ],
   "source": [
    "texts = df[\"synopsis\"].tolist()\n",
    "texts"
   ]
  },
  {
   "cell_type": "markdown",
   "id": "3a1dd193",
   "metadata": {},
   "source": [
    "\"어떤 필트로 검색 조건을 걸 것인가?\"를 미리 생각하여 그 필드를 메타데이터로 저장  \n",
    "\"벡터 쿼리\" + \"메타데이터 필터\" 조합으로 강력한 검색을 구현  \n",
    "Pinecone에 벡터를 올릴 때, 함께 저장할 메타데이터(metadata)를 잘 구조화하는 것이 중요합니다. 메타데이터는 각 벡터의 부가정보로 저장되며, 이후 검색 시 필터(filter)로 활용할 수 있습니다. 이번 영화 데이터 예시에서는 다음과 같은 메타데이터 필드를 설계할 수 있습니다.  \n",
    "\n",
    "title(제목) - 영화 또는 드라마 제목(문자열)  \n",
    "year(개봉년도) - 작품의 연도(정수)  \n",
    "genre(장르) - 작품의 주요 장르(문자열 혹은 문자열의 리스트)  \n",
    "director(감독) - 감독 이름(문자열)  \n",
    "actors(출연 배우) - 주요 배우들의 이름(여러 명일 경우 문자열 리스트)  \n",
    "rating(평점) - 작품의 평점(실수 또는 정수)  \n",
    "synopsis(줄거리) - 작품의 간략한 줄거리 설명(문자열, 한국어)  \n",
    "위의 필드 중 synopsis는 검색을 위한 본문 텍스트이며, 나머지 필드는 작품을 속성별로 필터링하거나 결과를 보여줄 때 활용합니다.  "
   ]
  },
  {
   "cell_type": "code",
   "execution_count": 14,
   "id": "874a73d2",
   "metadata": {},
   "outputs": [],
   "source": [
    "from openai import OpenAI\n",
    "client = OpenAI(api_key=os.getenv(\"OPENAI_API_KEY\"))\n",
    "response = client.embeddings.create(input=texts, model=\"text-embedding-3-small\")\n",
    "embeddings = [item.embedding for item in response.data]"
   ]
  },
  {
   "cell_type": "code",
   "execution_count": 16,
   "id": "f2060e09",
   "metadata": {},
   "outputs": [],
   "source": [
    "records_to_upsert = []\n",
    "for idx, row in df.iterrows():\n",
    "  vec_id = f\"movie-{idx}\"\n",
    "  vec = embeddings[idx]\n",
    "  meta = {\n",
    "    \"title\": row[\"title\"],\n",
    "    \"year\": row[\"year\"],\n",
    "    \"genre\": row[\"genre\"],\n",
    "    \"director\": row[\"director\"],\n",
    "    \"actors\": row[\"actors\"],\n",
    "    \"rating\": row[\"rating\"],\n",
    "    \"synopsis\": row[\"synopsis\"],\n",
    "  }\n",
    "records_to_upsert.append((vec_id,vec, meta))"
   ]
  },
  {
   "cell_type": "code",
   "execution_count": 18,
   "id": "5ffc3b09",
   "metadata": {},
   "outputs": [
    {
     "data": {
      "text/plain": [
       "{'upserted_count': 1}"
      ]
     },
     "execution_count": 18,
     "metadata": {},
     "output_type": "execute_result"
    }
   ],
   "source": [
    "index.upsert(vectors=records_to_upsert)"
   ]
  },
  {
   "cell_type": "code",
   "execution_count": 19,
   "id": "a2044814",
   "metadata": {},
   "outputs": [
    {
     "data": {
      "text/plain": [
       "{'dimension': 1536,\n",
       " 'index_fullness': 0.0,\n",
       " 'metric': 'cosine',\n",
       " 'namespaces': {'': {'vector_count': 1}},\n",
       " 'total_vector_count': 1,\n",
       " 'vector_type': 'dense'}"
      ]
     },
     "execution_count": 19,
     "metadata": {},
     "output_type": "execute_result"
    }
   ],
   "source": [
    "index.describe_index_stats()"
   ]
  },
  {
   "cell_type": "code",
   "execution_count": null,
   "id": "88ba6880",
   "metadata": {},
   "outputs": [],
   "source": []
  }
 ],
 "metadata": {
  "kernelspec": {
   "display_name": "prompt_basic",
   "language": "python",
   "name": "python3"
  },
  "language_info": {
   "codemirror_mode": {
    "name": "ipython",
    "version": 3
   },
   "file_extension": ".py",
   "mimetype": "text/x-python",
   "name": "python",
   "nbconvert_exporter": "python",
   "pygments_lexer": "ipython3",
   "version": "3.13.2"
  }
 },
 "nbformat": 4,
 "nbformat_minor": 5
}
