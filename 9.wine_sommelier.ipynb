{
 "cells": [
  {
   "cell_type": "code",
   "execution_count": 3,
   "id": "73f5301c",
   "metadata": {},
   "outputs": [
    {
     "data": {
      "text/plain": [
       "{'dimension': 1536,\n",
       " 'index_fullness': 0.0,\n",
       " 'metric': 'cosine',\n",
       " 'namespaces': {},\n",
       " 'total_vector_count': 0,\n",
       " 'vector_type': 'dense'}"
      ]
     },
     "execution_count": 3,
     "metadata": {},
     "output_type": "execute_result"
    }
   ],
   "source": [
    "from pinecone import Pinecone, ServerlessSpec\n",
    "from dotenv import load_dotenv\n",
    "import os\n",
    "load_dotenv()\n",
    "\n",
    "# 인덱스 생성\n",
    "PINECONE_INDEX_NAME = \"wine-index\"\n",
    "PINECONE_API_KEY = os.getenv(\"PINECONE_API_KEY\")\n",
    "OPENAI_API_KEY = os.getenv(\"OPENAI_API_KEY\")\n",
    "pc = Pinecone(api_key=os.getenv(\"PINECONE_API_KEY\"))\n",
    "\n",
    "if not pc.has_index(PINECONE_INDEX_NAME):\n",
    "    pc.create_index(\n",
    "        name=PINECONE_INDEX_NAME,\n",
    "        dimension=1536,\n",
    "        spec=ServerlessSpec(region=\"us-east-1\", cloud=\"aws\"),\n",
    "    )\n",
    "wine_index = pc.Index(PINECONE_INDEX_NAME)\n",
    "wine_index.describe_index_stats()"
   ]
  },
  {
   "cell_type": "code",
   "execution_count": null,
   "id": "46b30bca",
   "metadata": {},
   "outputs": [
    {
     "data": {
      "text/plain": [
       "Document(metadata={'source': 'winemag-data-130k-v2.csv', 'row': 0}, page_content=\": 0\\ncountry: Italy\\ndescription: Aromas include tropical fruit, broom, brimstone and dried herb. The palate isn't overly expressive, offering unripened apple, citrus and dried sage alongside brisk acidity.\\ndesignation: Vulkà Bianco\\npoints: 87\\nprice: \\nprovince: Sicily & Sardinia\\nregion_1: Etna\\nregion_2: \\ntaster_name: Kerin O’Keefe\\ntaster_twitter_handle: @kerinokeefe\\ntitle: Nicosia 2013 Vulkà Bianco  (Etna)\\nvariety: White Blend\\nwinery: Nicosia\")"
      ]
     },
     "execution_count": 2,
     "metadata": {},
     "output_type": "execute_result"
    }
   ],
   "source": [
    "# 와인데이터 로드\n",
    "from langchain_community.document_loaders import CSVLoader\n",
    "\n",
    "loader = CSVLoader(file_path=\"winemag-data-130k-v2.csv\", encoding=\"utf-8\")\n",
    "docs = loader.load()\n",
    "\n",
    "docs[0]\n",
    "print(len(docs))\n",
    "\n",
    "# # OpenAI에서 제공하는 tiktoken을 사용해 토큰 수 계산\n",
    "import tiktoken\n",
    "\n",
    "encoding = tiktoken.encoding_for_model(\"text-embedding-3-small\")\n",
    "text = \"이 문장이 몇 개의 토큰으로 인코딩되는지 확인해보세요.\"\n",
    "tokens = encoding.encode(text)\n",
    "print(len(tokens))  # 토큰 수 출력\n",
    "\n",
    "# Embedding 모델 로드\n",
    "from langchain_openai import OpenAIEmbeddings\n",
    "\n",
    "embeddings = OpenAIEmbeddings(\n",
    "    model=OPENAI_EMBEDDING_MODEL, openai_api_key=OPENAI_API_KEY\n",
    ")"
   ]
  },
  {
   "cell_type": "code",
   "execution_count": null,
   "id": "6a1da9fc",
   "metadata": {},
   "outputs": [],
   "source": []
  }
 ],
 "metadata": {
  "kernelspec": {
   "display_name": "prompt_basic",
   "language": "python",
   "name": "python3"
  },
  "language_info": {
   "codemirror_mode": {
    "name": "ipython",
    "version": 3
   },
   "file_extension": ".py",
   "mimetype": "text/x-python",
   "name": "python",
   "nbconvert_exporter": "python",
   "pygments_lexer": "ipython3",
   "version": "3.13.2"
  }
 },
 "nbformat": 4,
 "nbformat_minor": 5
}
