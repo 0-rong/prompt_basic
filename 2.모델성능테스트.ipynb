{
 "cells": [
  {
   "cell_type": "markdown",
   "id": "101c37b6",
   "metadata": {},
   "source": [
    "# 모델 성능 테스트"
   ]
  },
  {
   "cell_type": "code",
   "execution_count": 3,
   "id": "ee201f80",
   "metadata": {},
   "outputs": [
    {
     "data": {
      "text/plain": [
       "True"
      ]
     },
     "execution_count": 3,
     "metadata": {},
     "output_type": "execute_result"
    }
   ],
   "source": [
    "from dotenv import load_dotenv\n",
    "import os\n",
    "from anthropic import Anthropic\n",
    "from IPython.display import display, Markdown\n",
    "load_dotenv()"
   ]
  },
  {
   "cell_type": "code",
   "execution_count": 4,
   "id": "f2568e2d",
   "metadata": {},
   "outputs": [],
   "source": [
    "client = Anthropic(api_key=os.getenv(\"ANTHROPIC_API_KEY\"))"
   ]
  },
  {
   "cell_type": "code",
   "execution_count": 12,
   "id": "92b79425",
   "metadata": {},
   "outputs": [],
   "source": [
    "def compare_models():\n",
    "  models = [\n",
    "        \"claude-3-5-sonnet-20240620\",\n",
    "        \"claude-3-opus-20240229\",\n",
    "        \"claude-3-haiku-20240307\",\n",
    "    ]\n",
    "  task = \"\"\"\n",
    "    다음 문제를 해결하십시오.\n",
    "    <문제>\n",
    "    4명의 용의자 중 3명은 진실을 말하고, 1명은 거짓말을 합니다.\n",
    "    A는 B가 범인이다 라고 말합니다.\n",
    "    B는 C가 범인이다 라고 말합니다.\n",
    "    C는 D가 범인이다 라고 말합니다.\n",
    "    D는 C가 범인이다 라고 말합니다.\n",
    "    </문제>\n",
    "    이 문제에 대해서 해결할 수 없다면 해결할 수 없다고 말하십시오.\n",
    "  \"\"\"\n",
    "\n",
    "  for model in models:\n",
    "    # print(model)\n",
    "    answers = []\n",
    "    for _ in range(5):\n",
    "      response = client.messages.create(\n",
    "        model=model,\n",
    "        messages=[\n",
    "          {\"role\": \"user\", \"content\": task}\n",
    "        ],\n",
    "        max_tokens=1000,\n",
    "      )\n",
    "      answers.append(response.content[0].text)\n",
    "      answers.append(\"***\")\n",
    "    display(Markdown(f\"## Model: {model}\"))\n",
    "    for i, answer in enumerate(answers):\n",
    "      display(Markdown(f\"{i+1}. {answer}\"))\n",
    "      print(\"\\n\\n\")"
   ]
  },
  {
   "cell_type": "code",
   "execution_count": 13,
   "id": "91af6811",
   "metadata": {},
   "outputs": [
    {
     "data": {
      "text/markdown": [
       "## Model: claude-3-5-sonnet-20240620"
      ],
      "text/plain": [
       "<IPython.core.display.Markdown object>"
      ]
     },
     "metadata": {},
     "output_type": "display_data"
    },
    {
     "data": {
      "text/markdown": [
       "1. 이 문제는 주어진 정보만으로는 명확하게 해결할 수 없습니다.\n",
       "\n",
       "이유는 다음과 같습니다:\n",
       "\n",
       "1. 4명 중 3명이 진실을 말하고 1명이 거짓말을 한다는 것은 알지만, 누가 거짓말을 하는지 특정할 수 없습니다.\n",
       "\n",
       "2. 각 사람의 진술이 서로 다르기 때문에, 적어도 한 명은 거짓말을 하고 있다는 것은 확실합니다.\n",
       "\n",
       "3. 그러나 누가 범인인지, 그리고 누가 거짓말을 하고 있는지에 대해 여러 가지 가능성이 존재합니다.\n",
       "\n",
       "4. 예를 들어, C가 범인이고 D가 거짓말을 하는 경우, A, B, C가 진실을 말하는 시나리오가 가능합니다. 하지만 이것이 유일한 해답은 아닙니다.\n",
       "\n",
       "5. 다른 시나리오들도 가능하기 때문에, 주어진 정보만으로는 범인과 거짓말쟁이를 확실하게 특정할 수 없습니다.\n",
       "\n",
       "따라서 이 문제는 주어진 정보만으로는 명확하게 해결할 수 없습니다. 추가적인 정보나 조건이 필요합니다."
      ],
      "text/plain": [
       "<IPython.core.display.Markdown object>"
      ]
     },
     "metadata": {},
     "output_type": "display_data"
    },
    {
     "name": "stdout",
     "output_type": "stream",
     "text": [
      "\n",
      "\n",
      "\n"
     ]
    },
    {
     "data": {
      "text/markdown": [
       "2. ***"
      ],
      "text/plain": [
       "<IPython.core.display.Markdown object>"
      ]
     },
     "metadata": {},
     "output_type": "display_data"
    },
    {
     "name": "stdout",
     "output_type": "stream",
     "text": [
      "\n",
      "\n",
      "\n"
     ]
    },
    {
     "data": {
      "text/markdown": [
       "3. 이 문제는 주어진 정보만으로는 명확하게 해결할 수 없습니다.\n",
       "\n",
       "그 이유는 다음과 같습니다:\n",
       "\n",
       "1. 4명 중 3명이 진실을 말하고 1명이 거짓말을 한다는 것은 알지만, 누가 거짓말을 하는지 특정할 수 없습니다.\n",
       "\n",
       "2. 각 사람의 진술이 서로 다르기 때문에, 최소 한 명은 거짓말을 하고 있다는 것은 확실합니다.\n",
       "\n",
       "3. 하지만 누가 범인인지, 그리고 누가 거짓말을 하고 있는지에 대해 여러 가지 가능성이 존재합니다.\n",
       "\n",
       "4. 예를 들어, C가 범인이고 D가 거짓말을 하는 경우, A, B, C가 진실을 말하는 상황이 가능합니다. 하지만 이것이 유일한 해답은 아닙니다.\n",
       "\n",
       "5. 다른 가능성들도 존재하기 때문에, 주어진 정보만으로는 누가 범인이고 누가 거짓말을 하는지 확실하게 결정할 수 없습니다.\n",
       "\n",
       "따라서 이 문제는 주어진 정보만으로는 명확하게 해결할 수 없습니다. 추가적인 정보나 조건이 필요합니다."
      ],
      "text/plain": [
       "<IPython.core.display.Markdown object>"
      ]
     },
     "metadata": {},
     "output_type": "display_data"
    },
    {
     "name": "stdout",
     "output_type": "stream",
     "text": [
      "\n",
      "\n",
      "\n"
     ]
    },
    {
     "data": {
      "text/markdown": [
       "4. ***"
      ],
      "text/plain": [
       "<IPython.core.display.Markdown object>"
      ]
     },
     "metadata": {},
     "output_type": "display_data"
    },
    {
     "name": "stdout",
     "output_type": "stream",
     "text": [
      "\n",
      "\n",
      "\n"
     ]
    },
    {
     "data": {
      "text/markdown": [
       "5. 이 문제는 주어진 정보만으로는 명확하게 해결할 수 없습니다.\n",
       "\n",
       "이유는 다음과 같습니다:\n",
       "\n",
       "1. 4명 중 3명이 진실을 말하고 1명이 거짓말을 한다는 것은 알지만, 누가 거짓말을 하는지 특정할 수 없습니다.\n",
       "\n",
       "2. 각 사람의 진술이 서로 다르기 때문에, 최소한 한 명은 거짓말을 하고 있다는 것은 확실합니다.\n",
       "\n",
       "3. 하지만 누가 범인인지, 누가 거짓말을 하고 있는지에 대해 여러 가지 가능성이 존재합니다.\n",
       "\n",
       "4. 예를 들어, C가 범인이고 D가 거짓말을 하는 경우, A, B, C가 진실을 말하는 상황이 가능합니다. 하지만 이외에도 다른 가능성들이 존재할 수 있습니다.\n",
       "\n",
       "따라서 주어진 정보만으로는 누가 범인인지, 누가 거짓말을 하고 있는지 확실하게 결정할 수 없습니다. 문제를 해결하기 위해서는 추가적인 정보나 조건이 필요합니다."
      ],
      "text/plain": [
       "<IPython.core.display.Markdown object>"
      ]
     },
     "metadata": {},
     "output_type": "display_data"
    },
    {
     "name": "stdout",
     "output_type": "stream",
     "text": [
      "\n",
      "\n",
      "\n"
     ]
    },
    {
     "data": {
      "text/markdown": [
       "6. ***"
      ],
      "text/plain": [
       "<IPython.core.display.Markdown object>"
      ]
     },
     "metadata": {},
     "output_type": "display_data"
    },
    {
     "name": "stdout",
     "output_type": "stream",
     "text": [
      "\n",
      "\n",
      "\n"
     ]
    },
    {
     "data": {
      "text/markdown": [
       "7. 이 문제는 주어진 정보만으로는 완전히 해결할 수 없습니다. 하지만 일부 결론을 도출할 수 있습니다:\n",
       "\n",
       "1. 3명이 진실을 말하고 1명이 거짓말을 한다는 조건이 있습니다.\n",
       "\n",
       "2. C와 D는 서로를 범인이라고 지목하고 있습니다. 이 둘 중 한 명은 반드시 거짓말을 하고 있어야 합니다.\n",
       "\n",
       "3. 따라서 A와 B 중 한 명은 반드시 진실을 말하고 있습니다.\n",
       "\n",
       "4. 그러나 누가 진실을 말하고 누가 거짓말을 하는지, 그리고 누가 실제 범인인지는 이 정보만으로는 확실하게 결정할 수 없습니다.\n",
       "\n",
       "결론적으로, 이 문제는 주어진 정보만으로는 완전히 해결할 수 없습니다. 범인을 특정하거나 모든 사람의 진실/거짓 여부를 정확히 판단하기 위해서는 추가적인 정보가 필요합니다."
      ],
      "text/plain": [
       "<IPython.core.display.Markdown object>"
      ]
     },
     "metadata": {},
     "output_type": "display_data"
    },
    {
     "name": "stdout",
     "output_type": "stream",
     "text": [
      "\n",
      "\n",
      "\n"
     ]
    },
    {
     "data": {
      "text/markdown": [
       "8. ***"
      ],
      "text/plain": [
       "<IPython.core.display.Markdown object>"
      ]
     },
     "metadata": {},
     "output_type": "display_data"
    },
    {
     "name": "stdout",
     "output_type": "stream",
     "text": [
      "\n",
      "\n",
      "\n"
     ]
    },
    {
     "data": {
      "text/markdown": [
       "9. 이 문제는 주어진 정보만으로는 완전히 해결할 수 없습니다. 그 이유는 다음과 같습니다:\n",
       "\n",
       "1. 4명 중 3명이 진실을 말하고 1명이 거짓말을 한다는 것은 알지만, 누가 거짓말을 하는지 명확하지 않습니다.\n",
       "\n",
       "2. 각 사람의 진술만으로는 누가 범인인지 확실하게 결정할 수 없습니다.\n",
       "\n",
       "3. 여러 가지 가능한 시나리오가 존재합니다. 예를 들어:\n",
       "   - C가 범인이고 D가 거짓말을 하는 경우\n",
       "   - D가 범인이고 A, B, C 중 한 명이 거짓말을 하는 경우\n",
       "\n",
       "따라서 이 문제는 주어진 정보만으로는 유일한 해답을 도출할 수 없습니다. 추가적인 정보나 조건이 필요합니다."
      ],
      "text/plain": [
       "<IPython.core.display.Markdown object>"
      ]
     },
     "metadata": {},
     "output_type": "display_data"
    },
    {
     "name": "stdout",
     "output_type": "stream",
     "text": [
      "\n",
      "\n",
      "\n"
     ]
    },
    {
     "data": {
      "text/markdown": [
       "10. ***"
      ],
      "text/plain": [
       "<IPython.core.display.Markdown object>"
      ]
     },
     "metadata": {},
     "output_type": "display_data"
    },
    {
     "name": "stdout",
     "output_type": "stream",
     "text": [
      "\n",
      "\n",
      "\n"
     ]
    },
    {
     "data": {
      "text/markdown": [
       "## Model: claude-3-opus-20240229"
      ],
      "text/plain": [
       "<IPython.core.display.Markdown object>"
      ]
     },
     "metadata": {},
     "output_type": "display_data"
    },
    {
     "data": {
      "text/markdown": [
       "1. 이 문제는 해결할 수 있습니다.\n",
       "\n",
       "A가 거짓말을 하고 있다고 가정해 봅시다. 그렇다면 B는 범인이 아니므로 진실을 말하고 있어야 합니다. 그런데 B는 C가 범인이라고 말하고 있으므로 모순이 발생합니다.\n",
       "\n",
       "따라서 A는 진실을 말하고 있어야 하고, B는 거짓말을 하고 있어야 합니다. 그렇다면 C와 D도 진실을 말하고 있어야 논리적으로 모순이 없습니다.\n",
       "\n",
       "즉, B가 유일한 거짓말쟁이이자 범인입니다."
      ],
      "text/plain": [
       "<IPython.core.display.Markdown object>"
      ]
     },
     "metadata": {},
     "output_type": "display_data"
    },
    {
     "name": "stdout",
     "output_type": "stream",
     "text": [
      "\n",
      "\n",
      "\n"
     ]
    },
    {
     "data": {
      "text/markdown": [
       "2. ***"
      ],
      "text/plain": [
       "<IPython.core.display.Markdown object>"
      ]
     },
     "metadata": {},
     "output_type": "display_data"
    },
    {
     "name": "stdout",
     "output_type": "stream",
     "text": [
      "\n",
      "\n",
      "\n"
     ]
    },
    {
     "data": {
      "text/markdown": [
       "3. 이 문제는 해결할 수 없습니다. \n",
       "\n",
       "문제에서 주어진 조건만으로는 누가 진실을 말하고 누가 거짓말을 하는지 알 수 없기 때문입니다. \n",
       "\n",
       "A, B, C, D 각각의 진술이 진실인지 거짓인지 판단할 근거가 부족하여, 범인이 누구인지 논리적으로 추론해 낼 수 없는 상황입니다."
      ],
      "text/plain": [
       "<IPython.core.display.Markdown object>"
      ]
     },
     "metadata": {},
     "output_type": "display_data"
    },
    {
     "name": "stdout",
     "output_type": "stream",
     "text": [
      "\n",
      "\n",
      "\n"
     ]
    },
    {
     "data": {
      "text/markdown": [
       "4. ***"
      ],
      "text/plain": [
       "<IPython.core.display.Markdown object>"
      ]
     },
     "metadata": {},
     "output_type": "display_data"
    },
    {
     "name": "stdout",
     "output_type": "stream",
     "text": [
      "\n",
      "\n",
      "\n"
     ]
    },
    {
     "data": {
      "text/markdown": [
       "5. 이 문제는 해결할 수 있습니다. \n",
       "\n",
       "A, B, C, D 4명 중 3명은 진실을 말하고 1명은 거짓말을 한다고 했으므로, 범인은 진실을 말하는 사람이 지목한 사람이 됩니다.\n",
       "\n",
       "A가 진실을 말한다면, B는 거짓말쟁이가 되어 모순이 발생합니다. \n",
       "B가 진실을 말한다면, C는 거짓말쟁이가 되어 모순이 발생합니다.\n",
       "C가 진실을 말한다면, D는 거짓말쟁이가 되어 모순이 발생합니다.\n",
       "\n",
       "따라서 A, B, C가 거짓말을 하고 D가 유일하게 진실을 말하는 경우만 성립합니다. D는 C가 범인이라고 말했으므로 범인은 C입니다."
      ],
      "text/plain": [
       "<IPython.core.display.Markdown object>"
      ]
     },
     "metadata": {},
     "output_type": "display_data"
    },
    {
     "name": "stdout",
     "output_type": "stream",
     "text": [
      "\n",
      "\n",
      "\n"
     ]
    },
    {
     "data": {
      "text/markdown": [
       "6. ***"
      ],
      "text/plain": [
       "<IPython.core.display.Markdown object>"
      ]
     },
     "metadata": {},
     "output_type": "display_data"
    },
    {
     "name": "stdout",
     "output_type": "stream",
     "text": [
      "\n",
      "\n",
      "\n"
     ]
    },
    {
     "data": {
      "text/markdown": [
       "7. 이 문제는 해결할 수 없습니다. \n",
       "\n",
       "주어진 정보만으로는 누가 진실을 말하고 누가 거짓말을 하는지 알 수 없기 때문입니다. \n",
       "\n",
       "4명 중 3명이 진실을 말한다는 것은 알 수 있지만, 누가 그 3명인지는 알 수 없습니다. \n",
       "A, B, C, D 각각의 진술이 진실인지 거짓인지도 판단할 수 없습니다.\n",
       "\n",
       "따라서 이 문제는 주어진 정보만으로는 범인이 누구인지 특정할 수 없는, 해결 불가능한 문제입니다."
      ],
      "text/plain": [
       "<IPython.core.display.Markdown object>"
      ]
     },
     "metadata": {},
     "output_type": "display_data"
    },
    {
     "name": "stdout",
     "output_type": "stream",
     "text": [
      "\n",
      "\n",
      "\n"
     ]
    },
    {
     "data": {
      "text/markdown": [
       "8. ***"
      ],
      "text/plain": [
       "<IPython.core.display.Markdown object>"
      ]
     },
     "metadata": {},
     "output_type": "display_data"
    },
    {
     "name": "stdout",
     "output_type": "stream",
     "text": [
      "\n",
      "\n",
      "\n"
     ]
    },
    {
     "data": {
      "text/markdown": [
       "9. 이 문제는 해결할 수 없습니다. \n",
       "\n",
       "문제에서 제시된 조건만으로는 누가 진실을 말하고 누가 거짓말을 하는지 알 수 없기 때문입니다. \n",
       "\n",
       "만약 A가 진실을 말한다면, B는 거짓말을 하게 되고 C와 D 중 1명이 거짓말을 하게 됩니다. 하지만 C와 D의 진술이 서로 모순되기 때문에 누가 거짓말을 하는지 알 수 없습니다.\n",
       "\n",
       "A가 거짓말을 한다고 가정해도 B, C, D의 진술이 일관되지 않아 누가 범인인지 특정할 수 없습니다.\n",
       "\n",
       "따라서 주어진 정보만으로는 범인을 찾아낼 수 없으므로 이 문제는 해결 불가능합니다."
      ],
      "text/plain": [
       "<IPython.core.display.Markdown object>"
      ]
     },
     "metadata": {},
     "output_type": "display_data"
    },
    {
     "name": "stdout",
     "output_type": "stream",
     "text": [
      "\n",
      "\n",
      "\n"
     ]
    },
    {
     "data": {
      "text/markdown": [
       "10. ***"
      ],
      "text/plain": [
       "<IPython.core.display.Markdown object>"
      ]
     },
     "metadata": {},
     "output_type": "display_data"
    },
    {
     "name": "stdout",
     "output_type": "stream",
     "text": [
      "\n",
      "\n",
      "\n"
     ]
    },
    {
     "data": {
      "text/markdown": [
       "## Model: claude-3-haiku-20240307"
      ],
      "text/plain": [
       "<IPython.core.display.Markdown object>"
      ]
     },
     "metadata": {},
     "output_type": "display_data"
    },
    {
     "data": {
      "text/markdown": [
       "1. 이 문제는 해결할 수 없습니다.\n",
       "\n",
       "이유는 다음과 같습니다:\n",
       "\n",
       "1. 4명의 용의자 중 3명은 진실을 말하고 1명은 거짓말을 한다고 했는데, 이 정보만으로는 거짓말하는 사람이 누구인지 알 수 없습니다.\n",
       "\n",
       "2. A, B, C, D 각자가 한 말이 모순되고 있습니다. \n",
       "   - A는 B가 범인이라고 말하지만, B는 C가 범인이라고 말합니다.\n",
       "   - C는 D가 범인이라고 말하지만, D는 C가 범인이라고 말합니다.\n",
       "\n",
       "3. 누가 거짓말을 하고 있는지 알 수 없으므로, 실제 범인이 누구인지 결정할 수 없습니다.\n",
       "\n",
       "따라서 이 문제는 해결할 수 없습니다. 추가적인 정보가 필요할 것으로 보입니다."
      ],
      "text/plain": [
       "<IPython.core.display.Markdown object>"
      ]
     },
     "metadata": {},
     "output_type": "display_data"
    },
    {
     "name": "stdout",
     "output_type": "stream",
     "text": [
      "\n",
      "\n",
      "\n"
     ]
    },
    {
     "data": {
      "text/markdown": [
       "2. ***"
      ],
      "text/plain": [
       "<IPython.core.display.Markdown object>"
      ]
     },
     "metadata": {},
     "output_type": "display_data"
    },
    {
     "name": "stdout",
     "output_type": "stream",
     "text": [
      "\n",
      "\n",
      "\n"
     ]
    },
    {
     "data": {
      "text/markdown": [
       "3. 이 문제를 해결하기 위해서는 다음과 같은 방법을 사용할 수 있습니다.\n",
       "\n",
       "1. 각 용의자들의 진술을 순서대로 살펴봅시다.\n",
       "    - A는 B가 범인이라고 말하므로, B는 거짓말쟁이일 가능성이 있습니다.\n",
       "    - B는 C가 범인이라고 말하므로, B는 진실을 말하고 있습니다.\n",
       "    - C는 D가 범인이라고 말하므로, C는 거짓말쟁이일 가능성이 있습니다.\n",
       "    - D는 C가 범인이라고 말하므로, D는 진실을 말하고 있습니다.\n",
       "\n",
       "2. 위 내용을 종합해 보면, 진실을 말하는 사람은 B와 D, 거짓말을 하는 사람은 A와 C라는 결론을 내릴 수 있습니다.\n",
       "\n",
       "따라서 이 문제에 대한 해답은 범인은 C라고 할 수 있습니다."
      ],
      "text/plain": [
       "<IPython.core.display.Markdown object>"
      ]
     },
     "metadata": {},
     "output_type": "display_data"
    },
    {
     "name": "stdout",
     "output_type": "stream",
     "text": [
      "\n",
      "\n",
      "\n"
     ]
    },
    {
     "data": {
      "text/markdown": [
       "4. ***"
      ],
      "text/plain": [
       "<IPython.core.display.Markdown object>"
      ]
     },
     "metadata": {},
     "output_type": "display_data"
    },
    {
     "name": "stdout",
     "output_type": "stream",
     "text": [
      "\n",
      "\n",
      "\n"
     ]
    },
    {
     "data": {
      "text/markdown": [
       "5. 이 문제는 해결할 수 없습니다. \n",
       "\n",
       "이유는 다음과 같습니다:\n",
       "\n",
       "1. 4명의 용의자 중 3명은 진실을 말하고 1명은 거짓말을 한다고 했습니다.\n",
       "2. A는 B가 범인이라고 말했고, B는 C가 범인이라고 말했습니다.\n",
       "3. C는 D가 범인이라고 말했고, D는 C가 범인이라고 말했습니다.\n",
       "4. 이러한 진술들은 모순되어 있습니다. 만약 A, B, D가 진실을 말한다면 C가 범인이 되어야 하지만, C는 D가 범인이라고 말했습니다.\n",
       "5. 반대로 C가 진실을 말한다면 D가 범인이 되어야 하지만, D는 C가 범인이라고 말했습니다.\n",
       "6. 따라서 이 정보만으로는 누가 범인인지 확실하게 알 수 없습니다.\n",
       "\n",
       "결론적으로, 이 문제는 해결할 수 없습니다."
      ],
      "text/plain": [
       "<IPython.core.display.Markdown object>"
      ]
     },
     "metadata": {},
     "output_type": "display_data"
    },
    {
     "name": "stdout",
     "output_type": "stream",
     "text": [
      "\n",
      "\n",
      "\n"
     ]
    },
    {
     "data": {
      "text/markdown": [
       "6. ***"
      ],
      "text/plain": [
       "<IPython.core.display.Markdown object>"
      ]
     },
     "metadata": {},
     "output_type": "display_data"
    },
    {
     "name": "stdout",
     "output_type": "stream",
     "text": [
      "\n",
      "\n",
      "\n"
     ]
    },
    {
     "data": {
      "text/markdown": [
       "7. 이 문제를 해결하기 위해서는 다음과 같은 과정이 필요합니다:\n",
       "\n",
       "1. A는 B가 범인이라고 말했는데, B는 C가 범인이라고 말했습니다. 이 두 진술은 모순되므로, 둘 중 한 명은 거짓말을 하고 있습니다.\n",
       "\n",
       "2. C는 D가 범인이라고 말했고, D는 C가 범인이라고 말했습니다. 이 두 진술 역시 모순되므로, 둘 중 한 명은 거짓말을 하고 있습니다.\n",
       "\n",
       "3. 문제 설명에 따르면 4명의 용의자 중 3명은 진실을 말하고 1명은 거짓말을 하고 있습니다.\n",
       "\n",
       "4. 위의 두 가지 모순된 진술을 고려하면, 거짓말을 하는 사람은 A, B, C, D 중 한 명일 것입니다.\n",
       "\n",
       "5. 그러나 문제에서 제공된 정보만으로는 어떤 용의자가 거짓말을 하고 있는지 확실하게 알 수 없습니다.\n",
       "\n",
       "따라서 이 문제는 해결할 수 없습니다. 추가적인 정보가 필요합니다."
      ],
      "text/plain": [
       "<IPython.core.display.Markdown object>"
      ]
     },
     "metadata": {},
     "output_type": "display_data"
    },
    {
     "name": "stdout",
     "output_type": "stream",
     "text": [
      "\n",
      "\n",
      "\n"
     ]
    },
    {
     "data": {
      "text/markdown": [
       "8. ***"
      ],
      "text/plain": [
       "<IPython.core.display.Markdown object>"
      ]
     },
     "metadata": {},
     "output_type": "display_data"
    },
    {
     "name": "stdout",
     "output_type": "stream",
     "text": [
      "\n",
      "\n",
      "\n"
     ]
    },
    {
     "data": {
      "text/markdown": [
       "9. 이 문제에 대한 해결책을 찾기는 어렵습니다.\n",
       "\n",
       "주어진 정보만으로는 범인을 확실하게 특정할 수 없습니다. 아래와 같은 이유로 해결이 어려운 것 같습니다:\n",
       "\n",
       "1. 4명 중 3명은 진실을 말하고 1명은 거짓말을 한다고 했지만, 누가 거짓말을 하는지 알 수 없습니다.\n",
       "\n",
       "2. A, B, C, D 모두 다른 사람을 범인이라고 말하고 있어, 서로 모순된 진술이 있습니다.\n",
       "\n",
       "3. 만약 A, B, C가 진실을 말하고 D가 거짓말을 한다고 가정하면, D가 범인일 수 있습니다. 그러나 이 경우 D의 진술 내용이 사실이 될 수 없습니다.\n",
       "\n",
       "따라서 주어진 정보만으로는 범인을 특정할 수 없으며, 추가적인 단서나 정보가 필요할 것 같습니다. 이 문제는 해결할 수 없는 것으로 보입니다."
      ],
      "text/plain": [
       "<IPython.core.display.Markdown object>"
      ]
     },
     "metadata": {},
     "output_type": "display_data"
    },
    {
     "name": "stdout",
     "output_type": "stream",
     "text": [
      "\n",
      "\n",
      "\n"
     ]
    },
    {
     "data": {
      "text/markdown": [
       "10. ***"
      ],
      "text/plain": [
       "<IPython.core.display.Markdown object>"
      ]
     },
     "metadata": {},
     "output_type": "display_data"
    },
    {
     "name": "stdout",
     "output_type": "stream",
     "text": [
      "\n",
      "\n",
      "\n"
     ]
    }
   ],
   "source": [
    "compare_models()"
   ]
  },
  {
   "cell_type": "markdown",
   "id": "017c8bba",
   "metadata": {},
   "source": [
    "# 모델 파라미터 테스트"
   ]
  },
  {
   "cell_type": "code",
   "execution_count": 16,
   "id": "77cb0d7c",
   "metadata": {},
   "outputs": [],
   "source": [
    "prompt = \"\"\"당신은 주어진 입력을 바탕으로 인기 있는 소설을 작성하는 임무를 맡았습니다. 목표는 지정된 장르의 관행을 준수하면서 목표 독자층에게 어필하는 매력적이고 시장성 있는 이야기를 만드는 것입니다. \n",
    "\n",
    "<characters> \n",
    "주인공: 지민, 27세 여성. IT 회사 직원이지만 비밀리에 초능력을 가지고 있음. 목표는 능력을 숨기며 평범한 삶을 사는 것.\n",
    "남자 주인공: 준호, 30세 남성. 비밀 요원으로 초능력자들을 찾는 임무를 맡고 있음. 지민에게 끌리지만 의무와 감정 사이에서 갈등함.\n",
    "적대자: 서진, 35세 여성. 초능력자들을 이용해 세계를 지배하려는 비밀 조직의 리더.\n",
    "</characters>\n",
    "\n",
    "<plot> \n",
    "지민의 능력이 우연히 드러나면서 준호의 주목을 받게 됨. 둘은 서로를 경계하다가 점점 가까워지지만, 서진의 조직이 지민을 노리면서 위험에 빠짐. 준호와 지민은 힘을 합쳐 조직에 맞서 싸우며 사랑에 빠짐.\n",
    "</plot> \n",
    "\n",
    "<setting> \n",
    "서울의 번화가. 현대적인 도시 풍경과 첨단 기술, 그리고 숨겨진 초능력 세계가 공존하는 곳.\n",
    "</setting>\n",
    "\n",
    "<point_of_view>\n",
    "3인칭 제한적 시점. 주로 지민과 준호의 관점에서 이야기를 전개.\n",
    "</point_of_view>\n",
    "\n",
    "<conflict> \n",
    "내적 갈등: 지민의 정체성 혼란, 준호의 의무와 감정 사이의 갈등\n",
    "외적 갈등: 서진의 조직과의 대립, 사회의 편견과 두려움\n",
    "</conflict> \n",
    "\n",
    "<theme> \n",
    "진정한 자아 받아들이기, 신뢰와 사랑의 힘, 다름을 인정하는 사회\n",
    "</theme>\n",
    "\n",
    "<structure> \n",
    "3부 구조. 1부: 능력 발각과 만남, 2부: 관계 발전과 위기 고조, 3부: 최종 대결과 해결\n",
    "</structure>\n",
    "\n",
    "<style> \n",
    "현대적이고 감각적인 문체. 때로는 유머러스하게, 때로는 긴장감 있게 서술.\n",
    "</style>\n",
    "\n",
    "<dialogue> \n",
    "\"네 능력이 위험할 수 있어. 하지만 난 널 지키고 싶어.\" (준호)\n",
    "\"내 능력은 저주가 아니야. 이젠 알아. 이건 내 일부야.\" (지민)\n",
    "</dialogue>\n",
    "\n",
    "<description> \n",
    "\"지민의 손끝에서 푸른 빛이 춤추듯 일렁였다. 준호의 눈이 휘둥그레졌다. 서울의 밤하늘보다 더 아름다운 광경이었다.\"\n",
    "</description>\n",
    "\n",
    "<pacing> \n",
    "잔잔한 일상 묘사와 긴박한 액션 신을 번갈아가며 독자의 흥미를 유지.\n",
    "</pacing>\n",
    "\n",
    "위 소설의 구성 요소를 모두 활용해서 소설을 1부만 작성해주세요.\"\"\""
   ]
  },
  {
   "cell_type": "code",
   "execution_count": 17,
   "id": "807274d8",
   "metadata": {},
   "outputs": [
    {
     "data": {
      "text/plain": [
       "'당신은 주어진 입력을 바탕으로 인기 있는 소설을 작성하는 임무를 맡았습니다. 목표는 지정된 장르의 관행을 준수하면서 목표 독자층에게 어필하는 매력적이고 시장성 있는 이야기를 만드는 것입니다. \\n\\n<characters> \\n주인공: 지민, 27세 여성. IT 회사 직원이지만 비밀리에 초능력을 가지고 있음. 목표는 능력을 숨기며 평범한 삶을 사는 것.\\n남자 주인공: 준호, 30세 남성. 비밀 요원으로 초능력자들을 찾는 임무를 맡고 있음. 지민에게 끌리지만 의무와 감정 사이에서 갈등함.\\n적대자: 서진, 35세 여성. 초능력자들을 이용해 세계를 지배하려는 비밀 조직의 리더.\\n</characters>\\n\\n<plot> \\n지민의 능력이 우연히 드러나면서 준호의 주목을 받게 됨. 둘은 서로를 경계하다가 점점 가까워지지만, 서진의 조직이 지민을 노리면서 위험에 빠짐. 준호와 지민은 힘을 합쳐 조직에 맞서 싸우며 사랑에 빠짐.\\n</plot> \\n\\n<setting> \\n서울의 번화가. 현대적인 도시 풍경과 첨단 기술, 그리고 숨겨진 초능력 세계가 공존하는 곳.\\n</setting>\\n\\n<point_of_view>\\n3인칭 제한적 시점. 주로 지민과 준호의 관점에서 이야기를 전개.\\n</point_of_view>\\n\\n<conflict> \\n내적 갈등: 지민의 정체성 혼란, 준호의 의무와 감정 사이의 갈등\\n외적 갈등: 서진의 조직과의 대립, 사회의 편견과 두려움\\n</conflict> \\n\\n<theme> \\n진정한 자아 받아들이기, 신뢰와 사랑의 힘, 다름을 인정하는 사회\\n</theme>\\n\\n<structure> \\n3부 구조. 1부: 능력 발각과 만남, 2부: 관계 발전과 위기 고조, 3부: 최종 대결과 해결\\n</structure>\\n\\n<style> \\n현대적이고 감각적인 문체. 때로는 유머러스하게, 때로는 긴장감 있게 서술.\\n</style>\\n\\n<dialogue> \\n\"네 능력이 위험할 수 있어. 하지만 난 널 지키고 싶어.\" (준호)\\n\"내 능력은 저주가 아니야. 이젠 알아. 이건 내 일부야.\" (지민)\\n</dialogue>\\n\\n<description> \\n\"지민의 손끝에서 푸른 빛이 춤추듯 일렁였다. 준호의 눈이 휘둥그레졌다. 서울의 밤하늘보다 더 아름다운 광경이었다.\"\\n</description>\\n\\n<pacing> \\n잔잔한 일상 묘사와 긴박한 액션 신을 번갈아가며 독자의 흥미를 유지.\\n</pacing>\\n\\n위 소설의 구성 요소를 모두 활용해서 소설을 1부만 작성해주세요.'"
      ]
     },
     "execution_count": 17,
     "metadata": {},
     "output_type": "execute_result"
    }
   ],
   "source": [
    "prompt"
   ]
  },
  {
   "cell_type": "code",
   "execution_count": 19,
   "id": "4a67bcf2",
   "metadata": {},
   "outputs": [],
   "source": [
    "response = client.messages.create(\n",
    "  model = \"claude-3-5-sonnet-20240620\",\n",
    "  messages = [\n",
    "    {\"role\": \"user\", \"content\": prompt},\n",
    "  ],\n",
    "  max_tokens=2048,\n",
    "  temperature=1,\n",
    ")"
   ]
  },
  {
   "cell_type": "code",
   "execution_count": 20,
   "id": "f1c184fe",
   "metadata": {},
   "outputs": [
    {
     "data": {
      "text/markdown": [
       "제 1부: 숨겨진 능력, 예기치 못한 만남\n",
       "\n",
       "서울의 화려한 불빛이 밤하늘을 수놓는 저녁, 지민은 회사 건물을 빠져나왔다. 27살의 그녀는 평범한 IT 회사 직원처럼 보였지만, 누구도 모르는 비밀을 간직하고 있었다. \n",
       "\n",
       "\"오늘도 무사히 넘어갔네.\" 지민은 안도의 한숨을 내쉬었다. 그녀의 손끝에서 잠시 푸른 빛이 일렁였지만, 재빨리 주먹을 꽉 쥐어 감췄다.\n",
       "\n",
       "같은 시각, 30살의 준호는 비밀 요원 사무실에서 새로운 임무를 부여받고 있었다.\n",
       "\n",
       "\"이번 타깃은 27세 여성입니다. 초능력 징후가 포착됐습니다.\" 상관이 말했다.\n",
       "\n",
       "준호는 고개를 끄덕였지만, 마음 한구석이 불편했다. '또 누군가의 삶을 뒤흔들게 되는 건가.'\n",
       "\n",
       "우연히 지민과 준호의 길이 교차했다. 혼잡한 지하철역에서 지민이 발을 헛디뎌 넘어지려는 순간, 준호가 그녀를 붙잡았다.\n",
       "\n",
       "\"괜찮으세요?\" 준호가 물었다.\n",
       "\n",
       "\"네, 감사합니다.\" 지민이 대답했다.\n",
       "\n",
       "그 순간, 둘의 손이 스쳤고 지민의 능력이 순간 발현되어 푸른 빛이 번쩍였다. 준호의 눈이 휘둥그레졌다.\n",
       "\n",
       "\"방금 그건...\" 준호가 놀라서 말했다.\n",
       "\n",
       "지민은 당황해 도망치듯 그 자리를 벗어났다. '큰일 났다. 들키고 말았어.'\n",
       "\n",
       "그날 밤, 지민은 악몽에 시달렸다. 꿈속에서 그녀는 자신의 능력 때문에 쫓기고 있었다. \n",
       "\n",
       "한편 준호는 보고서를 작성하며 고민에 빠졌다. '보고해야 하나? 하지만 그녀는 위험해 보이지 않았어.'\n",
       "\n",
       "다음 날, 지민은 불안한 마음으로 회사에 출근했다. 그때 낯선 남자가 그녀에게 다가왔다.\n",
       "\n",
       "\"안녕하세요, 지민 씨.\" 준호였다.\n",
       "\n",
       "지민은 깜짝 놀라 뒤로 물러섰다. \"당신은 누구죠?\"\n",
       "\n",
       "\"걱정하지 마세요. 해치려는 게 아닙니다.\" 준호가 말했다.\n",
       "\n",
       "그 순간, 멀리서 폭발음이 들렸다. 사람들이 혼비백산하는 가운데, 한 여자가 지민을 노려보며 다가왔다.\n",
       "\n",
       "\"드디어 찾았군요, 능력자.\" 서진이었다.\n",
       "\n",
       "지민은 공포에 질렸고, 준호는 본능적으로 그녀를 보호하려 했다. \n",
       "\n",
       "\"도망쳐요!\" 준호가 외쳤다.\n",
       "\n",
       "둘은 함께 달리기 시작했다. 지민의 손에서 푸른 빛이 흘러나왔다.\n",
       "\n",
       "\"내 능력을 어떻게 알았어요?\" 지민이 달리며 물었다.\n",
       "\n",
       "\"그건 나중에 설명할게요. 지금은 안전한 곳으로 가야 해요.\" 준호가 대답했다.\n",
       "\n",
       "서진의 부하들이 그들을 쫓았다. 지민은 처음으로 자신의 능력을 의도적으로 사용했다. 푸른 에너지가 폭발하며 추격자들을 막아섰다.\n",
       "\n",
       "\"와, 대단해요!\" 준호가 감탄했다.\n",
       "\n",
       "안전한 곳에 도착한 둘은 숨을 고르며 서로를 바라보았다.\n",
       "\n",
       "\"이제 설명해 주세요. 당신은 누구고, 왜 절 도와준 거죠?\" 지민이 물었다.\n",
       "\n",
       "준호는 잠시 망설이다 대답했다. \"사실 저는... 당신 같은 분들을 찾는 요원입니다. 하지만 이건 예상 밖의 상황이에요.\"\n",
       "\n",
       "지민의 표정이 어두워졌다. \"그럼 저를 잡으러 온 거예요?\"\n",
       "\n",
       "\"아뇨, 이제는 당신을 지키고 싶어요.\" 준호의 말에 지민은 놀랐다.\n",
       "\n",
       "\"하지만 왜요?\"\n",
       "\n",
       "\"당신의 능력이 위험할 수 있어요. 하지만 난 당신을 지키고 싶어요.\" 준호의 눈빛이 진실됨을 보여주었다.\n",
       "\n",
       "지민은 혼란스러웠다. 평생 숨겨온 비밀이 하루아침에 드러났고, 이제 그녀를 쫓는 세력도 생겼다. 하지만 동시에 처음으로 자신을 이해하고 받아들이는 사람을 만난 것 같았다.\n",
       "\n",
       "\"어떻게 해야 할지 모르겠어요.\" 지민이 떨리는 목소리로 말했다.\n",
       "\n",
       "준호는 그녀의 손을 잡았다. \"함께 헤쳐나가요. 당신의 능력은 저주가 아니에요. 그건 당신의 일부예요.\"\n",
       "\n",
       "지민의 손끝에서 다시 푸른 빛이 일렁였다. 이번에는 두려움 대신 따뜻함이 느껴졌다. 서울의 밤하늘보다 더 아름다운 광경이었다.\n",
       "\n",
       "\"앞으로 어떻게 될지 모르겠어요.\" 지민이 말했다.\n",
       "\n",
       "\"저도 모르겠어요. 하지만 우리가 함께라면 뭐든 할 수 있을 것 같아요.\" 준호가 미소 지었다.\n",
       "\n",
       "그렇게 지민과 준호의 예기치 못한 만남은 둘의 인생을 완전히 바꿔놓았다. 이제 그들은 서진의 조직과 맞서 싸우며, 자신들의 진정한 모습을 찾아가는 여정을 시작하게 된다.\n",
       "\n",
       "1부가 끝나고, 2부에서는 둘의 관계"
      ],
      "text/plain": [
       "<IPython.core.display.Markdown object>"
      ]
     },
     "metadata": {},
     "output_type": "display_data"
    }
   ],
   "source": [
    "display(Markdown(response.content[0].text))"
   ]
  },
  {
   "cell_type": "code",
   "execution_count": 21,
   "id": "ef7cd761",
   "metadata": {},
   "outputs": [],
   "source": [
    "response = client.messages.create(\n",
    "    model=\"claude-3-5-sonnet-20240620\",\n",
    "    messages=[\n",
    "        {\"role\": \"user\", \"content\": prompt},\n",
    "    ],\n",
    "    max_tokens=2048,\n",
    "    temperature=0,\n",
    ")"
   ]
  },
  {
   "cell_type": "code",
   "execution_count": 22,
   "id": "f43a7769",
   "metadata": {},
   "outputs": [
    {
     "data": {
      "text/markdown": [
       "제 1부: 숨겨진 능력, 예기치 못한 만남\n",
       "\n",
       "서울의 화려한 네온사인이 밤하늘을 수놓는 강남역 부근. IT 회사에서 일하는 27세 지민은 퇴근길에 오른다. 그녀의 표정은 피곤하지만, 눈빛만은 여전히 생기 있다. \n",
       "\n",
       "\"오늘도 무사히 넘어갔어.\" \n",
       "\n",
       "지민은 마음속으로 안도의 한숨을 내쉰다. 그녀에겐 누구에게도 말할 수 없는 비밀이 있다. 바로 초능력. 어릴 때부터 물체를 움직일 수 있는 능력을 가졌지만, 그녀는 이를 철저히 숨기며 살아왔다.\n",
       "\n",
       "같은 시각, 30세의 준호는 비밀 요원 사무실에서 새로운 임무를 받고 있다.\n",
       "\n",
       "\"최근 초능력자들의 활동이 감지되고 있습니다. 그들을 찾아 감시하세요.\"\n",
       "\n",
       "준호는 고개를 끄덕이며 임무를 받아들인다. 그의 눈빛에는 결연함이 서려있다.\n",
       "\n",
       "다음 날 아침, 지민은 평소와 다름없이 회사로 향한다. 그러나 이날은 그녀의 인생을 뒤바꿀 사건이 일어난다.\n",
       "\n",
       "갑자기 앞에서 걸어오던 노인이 비틀거리며 쓰러질 듯하자, 지민은 반사적으로 손을 뻗는다. 그 순간, 노인의 몸이 공중에 떠오르더니 부드럽게 바닥에 내려앉는다.\n",
       "\n",
       "지민은 자신도 모르게 능력을 사용했음을 깨닫고 당황한다. 주변을 둘러보니 다행히 아무도 보지 않은 것 같다. 그녀는 안도의 한숨을 내쉬며 빠르게 그 자리를 벗어난다.\n",
       "\n",
       "하지만 그녀의 생각과 달리, 한 남자가 모든 광경을 지켜보고 있었다. 바로 준호였다.\n",
       "\n",
       "\"드디어 찾았군.\"\n",
       "\n",
       "준호의 눈빛이 날카로워진다. 그는 즉시 본부에 연락을 취하고 지민의 뒤를 밟기 시작한다.\n",
       "\n",
       "그날 저녁, 퇴근길에 오른 지민은 누군가 자신을 따라오고 있다는 느낌을 받는다. 불안감에 휩싸인 그녀는 발걸음을 재촉한다.\n",
       "\n",
       "어두운 골목길. 지민은 더 이상 참지 못하고 뒤를 돌아본다.\n",
       "\n",
       "\"누구세요? 왜 저를 따라오는 거죠?\"\n",
       "\n",
       "준호가 그림자 속에서 모습을 드러낸다. \n",
       "\n",
       "\"당신의 비밀을 알고 있습니다, 지민 씨.\"\n",
       "\n",
       "지민의 얼굴이 창백해진다. 그녀의 손끝에서 푸른 빛이 희미하게 일렁이기 시작한다.\n",
       "\n",
       "준호의 눈이 휘둥그레진다. 서울의 밤하늘보다 더 아름다운 광경이었다.\n",
       "\n",
       "\"진정하세요. 해치려는 게 아닙니다.\"\n",
       "\n",
       "준호가 천천히 다가온다. 지민은 경계의 눈빛을 거두지 않은 채 대답한다.\n",
       "\n",
       "\"그럼 뭘 원하시는데요?\"\n",
       "\n",
       "\"당신을 보호하고 싶습니다. 당신 같은 분들을 노리는 위험한 세력이 있어요.\"\n",
       "\n",
       "지민의 표정이 복잡해진다. 그녀의 마음속에선 두려움과 호기심, 그리고 묘한 설렘이 뒤섞인다.\n",
       "\n",
       "\"어떻게 저를 믿으라는 거죠?\"\n",
       "\n",
       "준호는 잠시 망설이다 자신의 신분증을 보여준다.\n",
       "\n",
       "\"저는 비밀 요원입니다. 당신 같은 특별한 능력을 가진 사람들을 보호하는 게 제 임무죠.\"\n",
       "\n",
       "지민은 혼란스러운 표정으로 준호를 바라본다. 그녀의 인생이 크게 바뀌려 한다는 것을 직감한다.\n",
       "\n",
       "\"무슨 말인지 잘 모르겠어요. 하지만... 더 듣고 싶네요.\"\n",
       "\n",
       "준호는 안도의 표정을 짓는다.\n",
       "\n",
       "\"좋습니다. 안전한 곳으로 가서 얘기를 나눠볼까요?\"\n",
       "\n",
       "두 사람은 조용한 카페로 향한다. 그들의 대화가 깊어질수록, 서로에 대한 경계심은 조금씩 허물어지고 있었다.\n",
       "\n",
       "한편, 도시 어딘가의 어두운 사무실. 35세의 서진이 컴퓨터 화면을 응시하고 있다.\n",
       "\n",
       "\"드디어 나타났군. 우리가 찾던 바로 그 능력자야.\"\n",
       "\n",
       "서진의 입가에 차가운 미소가 번진다. 지민을 향한 위험한 계획이 시작되려 하고 있었다.\n",
       "\n",
       "1부가 끝나갈 무렵, 지민과 준호는 서로를 조금씩 이해하기 시작한다. 하지만 그들 앞에 놓인 위험은 아직 알지 못한 채, 새로운 관계의 첫 발을 내딛는다.\n",
       "\n",
       "\"이제부터가 시작이에요, 지민 씨. 함께 헤쳐 나가요.\"\n",
       "\n",
       "준호의 말에 지민은 조심스레 고개를 끄덕인다. 그녀의 눈빛에는 두려움과 기대가 공존한다.\n",
       "\n",
       "서울의 밤은 깊어가고, 숨겨진 초능력 세계의 새로운 장이 열리려 하고 있었다."
      ],
      "text/plain": [
       "<IPython.core.display.Markdown object>"
      ]
     },
     "metadata": {},
     "output_type": "display_data"
    }
   ],
   "source": [
    "display(Markdown(response.content[0].text))"
   ]
  },
  {
   "cell_type": "markdown",
   "id": "3351181a",
   "metadata": {},
   "source": [
    "## max_tokens "
   ]
  },
  {
   "cell_type": "code",
   "execution_count": 23,
   "id": "6eace6b1",
   "metadata": {},
   "outputs": [
    {
     "data": {
      "text/markdown": [
       "제 1부: 숨"
      ],
      "text/plain": [
       "<IPython.core.display.Markdown object>"
      ]
     },
     "metadata": {},
     "output_type": "display_data"
    }
   ],
   "source": [
    "response = client.messages.create(\n",
    "    model=\"claude-3-5-sonnet-20240620\",\n",
    "    messages=[\n",
    "        {\"role\": \"user\", \"content\": prompt},\n",
    "    ],\n",
    "    max_tokens=10,\n",
    "    temperature=1,\n",
    ")\n",
    "display(Markdown(response.content[0].text))"
   ]
  },
  {
   "cell_type": "code",
   "execution_count": 24,
   "id": "1d61ee91",
   "metadata": {},
   "outputs": [
    {
     "data": {
      "text/markdown": [
       "제 1부: 숨겨진 능력, 예기치 못한 만남\n",
       "\n",
       "서울의 화려한 네온사인이 밤하늘을 수놓는 강남역 부근. IT 회사에서 야근을 마친 지민이 피곤한 발걸음을 옮기고 있었다. 27살, 평범해 보이는 그녀의 눈동자에 잠시 푸른 빛이 스쳐 지나갔다. 지민은 깜짝 놀라 주변을 살폈다. 다행히 아무도 눈치채지 못한 것 같았다.\n",
       "\n",
       "\"또 그랬잖아. 조심해야 해, 지민아.\"\n",
       "\n",
       "그녀는 작게 중얼거리며 발걸음을 재촉했다. 태어날 때부터 지민에겐 특별한 능력이 있었다. 마음만 먹으면 물체를 움직일 수 있는 초능력. 하지만 그녀는 이 능력을 저주라고 여겼다. 평범하게 살고 싶었던 지민은 능력을 숨기며 살아왔다.\n",
       "\n",
       "그때였다. \n",
       "\n",
       "\"잡아!\"\n",
       "\n",
       "날카로운 외침과 함께 한 남자가 지민의 앞을 지나 달려갔다. 뒤이어 검은 정장 차림의 남자가 그를 쫓고 있었다. 순간 도망가는 남자가 지민을 향해 손을 뻗었다. \n",
       "\n",
       "지민의 눈이 커졌다. 그의 손에서 붉은 불꽃이 피어오르고 있었다. \n",
       "\n",
       "\"위험해요!\"\n",
       "\n",
       "정장 차림의 남자가 지민을 감싸 안으며 외쳤다. 둘은 바닥에 넘어졌고, 붉은 불꽃이 그들의 머리 위로 지나갔다. \n",
       "\n",
       "\"괜찮으세요?\"\n",
       "\n",
       "남자가 지민에게 물었다. 그의 눈빛은 날카로웠지만, 목소리에는 따뜻함이 묻어났다. \n",
       "\n",
       "\"네... 감사합니다.\"\n",
       "\n",
       "지민이 대답했다. 그때 그녀는 자신의 손이 남자의 팔을 잡고 있다는 걸 깨달았다. 당황한 지민이 손을 떼려는 순간, 놀라운 일이 벌어졌다. \n",
       "\n",
       "푸른 빛이 그녀의 손끝에서 일렁이더니 남자의 팔을 타고 올라갔다. 남자의 눈이 휘둥그레졌다. 서울의 밤하늘보다 더 아름다운 광경이었다.\n",
       "\n",
       "\"당신... 설마...\"\n",
       "\n",
       "남자의 목소리가 떨렸다. 지민은 공포에 질린 채 자리에서 벌떡 일어났다. \n",
       "\n",
       "\"아니에요. 제가 무슨...\"\n",
       "\n",
       "지민이 도망치려는 순간, 남자가 그녀의 손목을 잡았다.\n",
       "\n",
       "\"기다려요. 제 이름은 준호입니다. 당신을 해치려는 게 아니에요.\"\n",
       "\n",
       "지민은 망설였다. 준호의 눈빛에는 적의가 없었다. 오히려 호기심과 따뜻함이 깃들어 있었다.\n",
       "\n",
       "\"저는... 지민이에요.\"\n",
       "\n",
       "그녀가 조심스럽게 대답했다. \n",
       "\n",
       "\"지민 씨, 우리 잠깐 이야기 좀 할 수 있을까요?\"\n",
       "\n",
       "준호의 제안에 지민은 고개를 끄덕였다. 그들은 근처 카페로 향했다. 지민의 마음속에는 불안과 기대가 교차했다. 이제 그녀의 삶은 크게 바뀌려 하고 있었다.\n",
       "\n",
       "카페에 앉은 둘은 잠시 침묵을 지켰다. 준호가 먼저 입을 열었다.\n",
       "\n",
       "\"지민 씨, 솔직히 말씀드리겠습니다. 저는 비밀 요원입니다. 특별한 능력을 가진 사람들을 찾는 게 제 임무죠.\"\n",
       "\n",
       "지민의 얼굴이 굳어졌다. \n",
       "\n",
       "\"그럼 저를... 잡으러 온 건가요?\"\n",
       "\n",
       "준호는 고개를 저었다. \n",
       "\n",
       "\"아닙니다. 우리의 목적은 여러분을 보호하고, 필요하다면 도움을 주는 거예요. 세상에는 위험한 사람들도 있거든요.\"\n",
       "\n",
       "지민은 잠시 생각에 잠겼다. 평생 숨겨온 비밀을 이렇게 쉽게 들키다니. 하지만 이상하게도 마음 한구석이 후련했다.\n",
       "\n",
       "\"그동안 혼자 고민하느라 힘들었겠어요.\"\n",
       "\n",
       "준호의 말에 지민의 눈시울이 붉어졌다. \n",
       "\n",
       "\"네... 이 능력이 저주인 줄 알았어요. 평범하게 살고 싶었는데...\"\n",
       "\n",
       "준호가 부드럽게 미소 지었다. \n",
       "\n",
       "\"지민 씨의 능력은 저주가 아닙니다. 그건 당신의 일부예요. 소중한 재능이죠.\"\n",
       "\n",
       "그의 말에 지민의 마음이 조금씩 열렸다. 처음으로 자신의 능력에 대해 누군가와 이야기를 나누는 기분이 이상했다.\n",
       "\n",
       "대화를 나누는 동안, 준호는 지민에게 점점 더 매력을 느꼈다. 그녀의 순수함과 강인함이 동시에 느껴졌다. 하지만 그는 자신의 감정을 억눌렀다. 임무에 사적인 감정을 섞어선 안 된다는 걸 잘 알고 있었다.\n",
       "\n",
       "\"지민 씨, 앞으로 제가 도와드리겠습니다. 능력을 조절하는 법도 알려드릴게요.\"\n",
       "\n",
       "준호의 제안에 지민은 잠시 고민했다. 그동안의 평범한 삶을 포기해야 할지도 모른다는 두려움이 있었다. 하지만 동시에 새로운 세계에 대한 호기심도 생겼다.\n",
       "\n",
       "\"알겠습니다. 준호 씨를 믿어볼게요.\"\n",
       "\n",
       "지민이 결심한 듯 말했다. 준호는 안도의 한숨을 내쉬었다.\n",
       "\n",
       "\"고마워요. 그럼 내일 다시 만나 자세한 이야기를 나눠요.\"\n",
       "\n",
       "둘은 연락처를 교환하고 헤어졌다. 집으로 돌아가는 길, 지민의 마음은 복잡했다. 하지만 한편으로는 기대감도 있었다. \n",
       "\n",
       "그녀는 알지 못했다. 이 만남이 그녀의 인생을 완전히 바꿔놓을 거라는 것을. 그리고 준호와의 관계가 단순한 동료 이상으로 발전하게 될 거라는 것도.\n",
       "\n",
       "한편, 어둠 속 어딘가에서 서진이 차가운 미소를 지으며 모니터를 보고 있었다. \n",
       "\n",
       "\"드디어 찾았군. 준비해라. 우리의 계획을 실행할 때가 왔다.\"\n",
       "\n",
       "1부의 끝은 새로운 시작을 알리는 서막이었다. 지민과 준호, 그리고 서진. 이들의 운명이 이제 얽히기 시작했다."
      ],
      "text/plain": [
       "<IPython.core.display.Markdown object>"
      ]
     },
     "metadata": {},
     "output_type": "display_data"
    }
   ],
   "source": [
    "response = client.messages.create(\n",
    "    model=\"claude-3-5-sonnet-20240620\",\n",
    "    messages=[\n",
    "        {\"role\": \"user\", \"content\": prompt},\n",
    "    ],\n",
    "    max_tokens=5096,\n",
    "    temperature=0,\n",
    ")\n",
    "display(Markdown(response.content[0].text))"
   ]
  },
  {
   "cell_type": "markdown",
   "id": "3d947fdc",
   "metadata": {},
   "source": [
    "# stop_squence"
   ]
  },
  {
   "cell_type": "code",
   "execution_count": 25,
   "id": "5e57aaef",
   "metadata": {},
   "outputs": [],
   "source": [
    "prompt2 = \"\"\"당신은 주어진 소설 1부의 연속 내용을 바탕으로 2부를 작성하는 임무를 맡았습니다. 2부에서는 인물 간의 관계가 발전하고, 갈등이 본격적으로 고조되어야 합니다. 문맥의 흐름과 이전 설정을 유지하면서 다음 지시사항에 따라 2부를 작성하세요.\n",
    "\n",
    "<goal>\n",
    "- 주인공 지민과 준호의 관계가 점점 가까워지며 감정이 깊어지는 과정을 보여줄 것\n",
    "- 서진과의 위협이 구체화되고, 갈등의 긴장감을 높일 것\n",
    "- 지민의 능력이 외부에 노출되어 위기에 빠지는 사건을 포함할 것\n",
    "- 내적 갈등 (지민의 자아 혼란, 준호의 의무와 감정 충돌)을 서술에 포함할 것\n",
    "</goal>\n",
    "\n",
    "<tone_and_style>\n",
    "- 현대적이고 감각적인 문체로, 대화와 심리 묘사를 중심으로 서술\n",
    "- 적절한 긴장감과 감정 표현을 균형 있게 배치\n",
    "- 시점은 3인칭 제한적 시점으로 유지하며, 주로 지민과 준호의 내면을 묘사할 것\n",
    "</tone_and_style>\n",
    "\n",
    "<setting>\n",
    "- 서울 도심, 지하 아지트, 골목길, 옥상 등 현실적이면서도 비밀스러운 분위기 연출\n",
    "</setting>\n",
    "\n",
    "<dialogue_sample>\n",
    "\"내가... 다른 사람들처럼 평범했다면 좋았을까?\" (지민)\n",
    "\"평범한 게 뭔데. 사람들은 누구나 뭔가를 숨기고 살아.\" (준호)\n",
    "</dialogue_sample>\n",
    "\n",
    "<conflict_sample>\n",
    "- 지민이 누군가에게 미행당하며 초능력을 발산하게 되는 장면\n",
    "- 서진의 조직이 두 사람을 위협하는 장면\n",
    "- 준호가 임무와 감정 사이에서 괴로워하는 모습\n",
    "</conflict_sample>\n",
    "\n",
    "<pacing>\n",
    "- 감정이 깊어지는 장면에서는 여유 있게 묘사하고, 위기 장면에서는 템포를 빠르게 전환\n",
    "</pacing>\n",
    "\n",
    "\n",
    "1부와 연결되도록 자연스럽게 시작하고, 2부의 절정에서 긴장감을 남기며 마무리할 것\n",
    "\n",
    "<output_format>\n",
    "{{\n",
    "  \"title\": \"소설의 제목\",\n",
    "  \"content\": \"소설의 내용\",\n",
    "}}\n",
    "</output_format>\n",
    "\"\"\""
   ]
  },
  {
   "cell_type": "code",
   "execution_count": 26,
   "id": "f492346e",
   "metadata": {},
   "outputs": [
    {
     "data": {
      "text/plain": [
       "'당신은 주어진 소설 1부의 연속 내용을 바탕으로 2부를 작성하는 임무를 맡았습니다. 2부에서는 인물 간의 관계가 발전하고, 갈등이 본격적으로 고조되어야 합니다. 문맥의 흐름과 이전 설정을 유지하면서 다음 지시사항에 따라 2부를 작성하세요.\\n\\n<goal>\\n- 주인공 지민과 준호의 관계가 점점 가까워지며 감정이 깊어지는 과정을 보여줄 것\\n- 서진과의 위협이 구체화되고, 갈등의 긴장감을 높일 것\\n- 지민의 능력이 외부에 노출되어 위기에 빠지는 사건을 포함할 것\\n- 내적 갈등 (지민의 자아 혼란, 준호의 의무와 감정 충돌)을 서술에 포함할 것\\n</goal>\\n\\n<tone_and_style>\\n- 현대적이고 감각적인 문체로, 대화와 심리 묘사를 중심으로 서술\\n- 적절한 긴장감과 감정 표현을 균형 있게 배치\\n- 시점은 3인칭 제한적 시점으로 유지하며, 주로 지민과 준호의 내면을 묘사할 것\\n</tone_and_style>\\n\\n<setting>\\n- 서울 도심, 지하 아지트, 골목길, 옥상 등 현실적이면서도 비밀스러운 분위기 연출\\n</setting>\\n\\n<dialogue_sample>\\n\"내가... 다른 사람들처럼 평범했다면 좋았을까?\" (지민)\\n\"평범한 게 뭔데. 사람들은 누구나 뭔가를 숨기고 살아.\" (준호)\\n</dialogue_sample>\\n\\n<conflict_sample>\\n- 지민이 누군가에게 미행당하며 초능력을 발산하게 되는 장면\\n- 서진의 조직이 두 사람을 위협하는 장면\\n- 준호가 임무와 감정 사이에서 괴로워하는 모습\\n</conflict_sample>\\n\\n<pacing>\\n- 감정이 깊어지는 장면에서는 여유 있게 묘사하고, 위기 장면에서는 템포를 빠르게 전환\\n</pacing>\\n\\n\\n1부와 연결되도록 자연스럽게 시작하고, 2부의 절정에서 긴장감을 남기며 마무리할 것\\n\\n<output_format>\\n{{\\n  \"title\": \"소설의 제목\",\\n  \"content\": \"소설의 내용\",\\n}}\\n</output_format>\\n'"
      ]
     },
     "execution_count": 26,
     "metadata": {},
     "output_type": "execute_result"
    }
   ],
   "source": [
    "prompt2"
   ]
  },
  {
   "cell_type": "code",
   "execution_count": 27,
   "id": "ff5c4c0e",
   "metadata": {},
   "outputs": [
    {
     "data": {
      "text/markdown": [
       "{\n",
       "  \"title\": \"그림자 속의 빛\",\n",
       "  \"content\": \"지민은 어둠 속에서 숨을 고르며 준호를 바라보았다. 그의 눈빛에서 무언가 달라진 것을 느꼈다. 더 이상 그저 임무를 수행하는 요원이 아닌, 자신을 진심으로 걱정하는 사람으로 보였다.\n",
       "\n",
       "'이런 감정을 가져도 될까?' 지민은 마음속으로 물었다. 그녀의 능력은 언제나 그녀를 고립시켰고, 누군가에게 마음을 열기란 쉽지 않았다.\n",
       "\n",
       "준호가 조심스럽게 손을 내밀었다. \"괜찮아. 이제 혼자가 아니야.\"\n",
       "\n",
       "지민은 망설이다 그의 손을 잡았다. 따뜻함이 전해졌다.\n",
       "\n",
       "며칠 후, 두 사람은 한강변을 걸었다. 밤하늘의 별들이 강물에 반사되어 춤추는 모습이 아름다웠다.\n",
       "\n",
       "\"내가... 다른 사람들처럼 평범했다면 좋았을까?\" 지민이 물었다.\n",
       "\n",
       "준호는 잠시 생각에 잠겼다가 대답했다. \"평범한 게 뭔데. 사람들은 누구나 뭔가를 숨기고 살아.\"\n",
       "\n",
       "그의 말에 지민은 작게 웃었다. 하지만 그 웃음은 오래가지 못했다. \n",
       "갑자기 어둠 속에서 검은 그림자들이 나타났다. 서진의 부하들이었다.\n",
       "\n",
       "\"드디어 찾았군.\" 서진의 차가운 목소리가 들렸다.\n",
       "\n",
       "준호는 즉시 지민을 감쌌다. \"도망쳐!\" 그가 외쳤다.\n",
       "\n",
       "두 사람은 골목길로 달렸다. 하지만 그들은 이미 포위당한 상태였다. \n",
       "지민은 공포에 휩싸였고, 그 순간 그녀의 능력이 폭발했다. \n",
       "주변의 물체들이 공중에 떠올랐고, 추격자들은 혼란에 빠졌다.\n",
       "\n",
       "\"저 여자... 뭐야?\" 누군가 소리쳤다.\n",
       "\n",
       "준호는 놀란 표정으로 지민을 바라보았다. 그는 그녀의 능력을 알고 있었지만, 이렇게 강력한 줄은 몰랐다.\n",
       "\n",
       "혼란 속에서 두 사람은 간신히 탈출했다. 옥상에 숨어 숨을 고르며, 서로를 바라보았다.\n",
       "\n",
       "\"미안해...\" 지민이 떨리는 목소리로 말했다. \"이제 넌 날 두려워하겠지.\"\n",
       "\n",
       "준호는 잠시 침묵했다. 그의 마음속에서는 임무와 감정이 충돌했다. \n",
       "하지만 이내 그는 결심한 듯 지민을 끌어안았다.\n",
       "\n",
       "\"두렵지 않아. 네가 누구든, 어떤 능력을 가졌든... 난 널 지키고 싶어.\"\n",
       "\n",
       "지민의 눈에서 눈물이 흘렀다. 처음으로 누군가에게 온전히 자신을 보여줄 수 있다는 안도감이 밀려왔다.\n",
       "\n",
       "하지만 그들의 평화는 오래가지 못했다. 서진의 목소리가 다시 들려왔다.\n",
       "\n",
       "\"재능 있는 친구들이군. 하지만 이제 게임은 끝이야.\"\n",
       "\n",
       "지민과 준호는 서로를 바라보았다. 이제 그들 앞에는 더 큰 위험이 기다리고 있었다. \n",
       "하지만 그들은 더 이상 혼자가 아니었다. 함께라면, 어떤 어둠도 이겨낼 수 있을 것 같았다.\n",
       "\n",
       "옥상 문이 열리는 소리와 함께, 새로운 위기가 다가왔다...\"\n",
       "}"
      ],
      "text/plain": [
       "<IPython.core.display.Markdown object>"
      ]
     },
     "metadata": {},
     "output_type": "display_data"
    }
   ],
   "source": [
    "response = client.messages.create(\n",
    "    model=\"claude-3-5-sonnet-20240620\",\n",
    "    messages=[\n",
    "        {\"role\": \"user\", \"content\": prompt2},\n",
    "    ],\n",
    "    max_tokens=2048,\n",
    "    temperature=0,\n",
    ")\n",
    "display(Markdown(response.content[0].text))"
   ]
  },
  {
   "cell_type": "code",
   "execution_count": 28,
   "id": "d6687a7a",
   "metadata": {},
   "outputs": [
    {
     "data": {
      "text/plain": [
       "'{\\n  \"title\": \"그림자 속의 빛\",\\n  \"content\": \"지민은 어둠 속에서 숨을 고르며 준호를 바라보았다. 그의 눈빛에서 무언가 달라진 것을 느꼈다. 더 이상 그저 임무를 수행하는 요원이 아닌, 자신을 진심으로 걱정하는 사람으로 보였다.\\n\\n\\'이런 감정을 가져도 될까?\\' 지민은 마음속으로 물었다. 그녀의 능력은 언제나 그녀를 고립시켰고, 누군가에게 마음을 열기란 쉽지 않았다.\\n\\n준호가 조심스럽게 손을 내밀었다. \"괜찮아. 이제 혼자가 아니야.\"\\n\\n지민은 망설이다 그의 손을 잡았다. 따뜻함이 전해졌다.\\n\\n며칠 후, 두 사람은 한강변을 걸었다. 밤하늘의 별들이 강물에 반사되어 춤추는 모습이 아름다웠다.\\n\\n\"내가... 다른 사람들처럼 평범했다면 좋았을까?\" 지민이 물었다.\\n\\n준호는 잠시 생각에 잠겼다가 대답했다. \"평범한 게 뭔데. 사람들은 누구나 뭔가를 숨기고 살아.\"\\n\\n그의 말에 지민은 작게 웃었다. 하지만 그 웃음은 오래가지 못했다. \\n갑자기 어둠 속에서 검은 그림자들이 나타났다. 서진의 부하들이었다.\\n\\n\"드디어 찾았군.\" 서진의 차가운 목소리가 들렸다.\\n\\n준호는 즉시 지민을 감쌌다. \"도망쳐!\" 그가 외쳤다.\\n\\n두 사람은 골목길로 달렸다. 하지만 그들은 이미 포위당한 상태였다. \\n지민은 공포에 휩싸였고, 그 순간 그녀의 능력이 폭발했다. \\n주변의 물체들이 공중에 떠올랐고, 추격자들은 혼란에 빠졌다.\\n\\n\"저 여자... 뭐야?\" 누군가 소리쳤다.\\n\\n준호는 놀란 표정으로 지민을 바라보았다. 그는 그녀의 능력을 알고 있었지만, 이렇게 강력한 줄은 몰랐다.\\n\\n혼란 속에서 두 사람은 간신히 탈출했다. 옥상에 숨어 숨을 고르며, 서로를 바라보았다.\\n\\n\"미안해...\" 지민이 떨리는 목소리로 말했다. \"이제 넌 날 두려워하겠지.\"\\n\\n준호는 잠시 침묵했다. 그의 마음속에서는 임무와 감정이 충돌했다. \\n하지만 이내 그는 결심한 듯 지민을 끌어안았다.\\n\\n\"두렵지 않아. 네가 누구든, 어떤 능력을 가졌든... 난 널 지키고 싶어.\"\\n\\n지민의 눈에서 눈물이 흘렀다. 처음으로 누군가에게 온전히 자신을 보여줄 수 있다는 안도감이 밀려왔다.\\n\\n하지만 그들의 평화는 오래가지 못했다. 서진의 목소리가 다시 들려왔다.\\n\\n\"재능 있는 친구들이군. 하지만 이제 게임은 끝이야.\"\\n\\n지민과 준호는 서로를 바라보았다. 이제 그들 앞에는 더 큰 위험이 기다리고 있었다. \\n하지만 그들은 더 이상 혼자가 아니었다. 함께라면, 어떤 어둠도 이겨낼 수 있을 것 같았다.\\n\\n옥상 문이 열리는 소리와 함께, 새로운 위기가 다가왔다...\"\\n}}'"
      ]
     },
     "execution_count": 28,
     "metadata": {},
     "output_type": "execute_result"
    }
   ],
   "source": [
    "response.content[0].text + \"}\""
   ]
  },
  {
   "cell_type": "code",
   "execution_count": null,
   "id": "3c458bdf",
   "metadata": {},
   "outputs": [],
   "source": []
  }
 ],
 "metadata": {
  "kernelspec": {
   "display_name": "prompt_basic",
   "language": "python",
   "name": "python3"
  },
  "language_info": {
   "codemirror_mode": {
    "name": "ipython",
    "version": 3
   },
   "file_extension": ".py",
   "mimetype": "text/x-python",
   "name": "python",
   "nbconvert_exporter": "python",
   "pygments_lexer": "ipython3",
   "version": "3.13.2"
  }
 },
 "nbformat": 4,
 "nbformat_minor": 5
}
