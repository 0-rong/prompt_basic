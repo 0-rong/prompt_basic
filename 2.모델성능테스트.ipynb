{
 "cells": [
  {
   "cell_type": "markdown",
   "id": "101c37b6",
   "metadata": {},
   "source": [
    "# 모델 성능 테스트"
   ]
  },
  {
   "cell_type": "code",
   "execution_count": 3,
   "id": "ee201f80",
   "metadata": {},
   "outputs": [
    {
     "data": {
      "text/plain": [
       "True"
      ]
     },
     "execution_count": 3,
     "metadata": {},
     "output_type": "execute_result"
    }
   ],
   "source": [
    "from dotenv import load_dotenv\n",
    "import os\n",
    "from anthropic import Anthropic\n",
    "from IPython.display import display, Markdown\n",
    "load_dotenv()"
   ]
  },
  {
   "cell_type": "code",
   "execution_count": 4,
   "id": "f2568e2d",
   "metadata": {},
   "outputs": [],
   "source": [
    "client = Anthropic(api_key=os.getenv(\"ANTHROPIC_API_KEY\"))"
   ]
  },
  {
   "cell_type": "code",
   "execution_count": 12,
   "id": "92b79425",
   "metadata": {},
   "outputs": [],
   "source": [
    "def compare_models():\n",
    "  models = [\n",
    "        \"claude-3-5-sonnet-20240620\",\n",
    "        \"claude-3-opus-20240229\",\n",
    "        \"claude-3-haiku-20240307\",\n",
    "    ]\n",
    "  task = \"\"\"\n",
    "    다음 문제를 해결하십시오.\n",
    "    <문제>\n",
    "    4명의 용의자 중 3명은 진실을 말하고, 1명은 거짓말을 합니다.\n",
    "    A는 B가 범인이다 라고 말합니다.\n",
    "    B는 C가 범인이다 라고 말합니다.\n",
    "    C는 D가 범인이다 라고 말합니다.\n",
    "    D는 C가 범인이다 라고 말합니다.\n",
    "    </문제>\n",
    "    이 문제에 대해서 해결할 수 없다면 해결할 수 없다고 말하십시오.\n",
    "  \"\"\"\n",
    "\n",
    "  for model in models:\n",
    "    # print(model)\n",
    "    answers = []\n",
    "    for _ in range(5):\n",
    "      response = client.messages.create(\n",
    "        model=model,\n",
    "        messages=[\n",
    "          {\"role\": \"user\", \"content\": task}\n",
    "        ],\n",
    "        max_tokens=1000,\n",
    "      )\n",
    "      answers.append(response.content[0].text)\n",
    "      answers.append(\"***\")\n",
    "    display(Markdown(f\"## Model: {model}\"))\n",
    "    for i, answer in enumerate(answers):\n",
    "      display(Markdown(f\"{i+1}. {answer}\"))\n",
    "      print(\"\\n\\n\")"
   ]
  },
  {
   "cell_type": "code",
   "execution_count": 13,
   "id": "91af6811",
   "metadata": {},
   "outputs": [
    {
     "data": {
      "text/markdown": [
       "## Model: claude-3-5-sonnet-20240620"
      ],
      "text/plain": [
       "<IPython.core.display.Markdown object>"
      ]
     },
     "metadata": {},
     "output_type": "display_data"
    },
    {
     "data": {
      "text/markdown": [
       "1. 이 문제는 주어진 정보만으로는 명확하게 해결할 수 없습니다.\n",
       "\n",
       "이유는 다음과 같습니다:\n",
       "\n",
       "1. 4명 중 3명이 진실을 말하고 1명이 거짓말을 한다는 것은 알지만, 누가 거짓말을 하는지 특정할 수 없습니다.\n",
       "\n",
       "2. 각 사람의 진술이 서로 다르기 때문에, 적어도 한 명은 거짓말을 하고 있다는 것은 확실합니다.\n",
       "\n",
       "3. 그러나 누가 범인인지, 그리고 누가 거짓말을 하고 있는지에 대해 여러 가지 가능성이 존재합니다.\n",
       "\n",
       "4. 예를 들어, C가 범인이고 D가 거짓말을 하는 경우, A, B, C가 진실을 말하는 시나리오가 가능합니다. 하지만 이것이 유일한 해답은 아닙니다.\n",
       "\n",
       "5. 다른 시나리오들도 가능하기 때문에, 주어진 정보만으로는 범인과 거짓말쟁이를 확실하게 특정할 수 없습니다.\n",
       "\n",
       "따라서 이 문제는 주어진 정보만으로는 명확하게 해결할 수 없습니다. 추가적인 정보나 조건이 필요합니다."
      ],
      "text/plain": [
       "<IPython.core.display.Markdown object>"
      ]
     },
     "metadata": {},
     "output_type": "display_data"
    },
    {
     "name": "stdout",
     "output_type": "stream",
     "text": [
      "\n",
      "\n",
      "\n"
     ]
    },
    {
     "data": {
      "text/markdown": [
       "2. ***"
      ],
      "text/plain": [
       "<IPython.core.display.Markdown object>"
      ]
     },
     "metadata": {},
     "output_type": "display_data"
    },
    {
     "name": "stdout",
     "output_type": "stream",
     "text": [
      "\n",
      "\n",
      "\n"
     ]
    },
    {
     "data": {
      "text/markdown": [
       "3. 이 문제는 주어진 정보만으로는 명확하게 해결할 수 없습니다.\n",
       "\n",
       "그 이유는 다음과 같습니다:\n",
       "\n",
       "1. 4명 중 3명이 진실을 말하고 1명이 거짓말을 한다는 것은 알지만, 누가 거짓말을 하는지 특정할 수 없습니다.\n",
       "\n",
       "2. 각 사람의 진술이 서로 다르기 때문에, 최소 한 명은 거짓말을 하고 있다는 것은 확실합니다.\n",
       "\n",
       "3. 하지만 누가 범인인지, 그리고 누가 거짓말을 하고 있는지에 대해 여러 가지 가능성이 존재합니다.\n",
       "\n",
       "4. 예를 들어, C가 범인이고 D가 거짓말을 하는 경우, A, B, C가 진실을 말하는 상황이 가능합니다. 하지만 이것이 유일한 해답은 아닙니다.\n",
       "\n",
       "5. 다른 가능성들도 존재하기 때문에, 주어진 정보만으로는 누가 범인이고 누가 거짓말을 하는지 확실하게 결정할 수 없습니다.\n",
       "\n",
       "따라서 이 문제는 주어진 정보만으로는 명확하게 해결할 수 없습니다. 추가적인 정보나 조건이 필요합니다."
      ],
      "text/plain": [
       "<IPython.core.display.Markdown object>"
      ]
     },
     "metadata": {},
     "output_type": "display_data"
    },
    {
     "name": "stdout",
     "output_type": "stream",
     "text": [
      "\n",
      "\n",
      "\n"
     ]
    },
    {
     "data": {
      "text/markdown": [
       "4. ***"
      ],
      "text/plain": [
       "<IPython.core.display.Markdown object>"
      ]
     },
     "metadata": {},
     "output_type": "display_data"
    },
    {
     "name": "stdout",
     "output_type": "stream",
     "text": [
      "\n",
      "\n",
      "\n"
     ]
    },
    {
     "data": {
      "text/markdown": [
       "5. 이 문제는 주어진 정보만으로는 명확하게 해결할 수 없습니다.\n",
       "\n",
       "이유는 다음과 같습니다:\n",
       "\n",
       "1. 4명 중 3명이 진실을 말하고 1명이 거짓말을 한다는 것은 알지만, 누가 거짓말을 하는지 특정할 수 없습니다.\n",
       "\n",
       "2. 각 사람의 진술이 서로 다르기 때문에, 최소한 한 명은 거짓말을 하고 있다는 것은 확실합니다.\n",
       "\n",
       "3. 하지만 누가 범인인지, 누가 거짓말을 하고 있는지에 대해 여러 가지 가능성이 존재합니다.\n",
       "\n",
       "4. 예를 들어, C가 범인이고 D가 거짓말을 하는 경우, A, B, C가 진실을 말하는 상황이 가능합니다. 하지만 이외에도 다른 가능성들이 존재할 수 있습니다.\n",
       "\n",
       "따라서 주어진 정보만으로는 누가 범인인지, 누가 거짓말을 하고 있는지 확실하게 결정할 수 없습니다. 문제를 해결하기 위해서는 추가적인 정보나 조건이 필요합니다."
      ],
      "text/plain": [
       "<IPython.core.display.Markdown object>"
      ]
     },
     "metadata": {},
     "output_type": "display_data"
    },
    {
     "name": "stdout",
     "output_type": "stream",
     "text": [
      "\n",
      "\n",
      "\n"
     ]
    },
    {
     "data": {
      "text/markdown": [
       "6. ***"
      ],
      "text/plain": [
       "<IPython.core.display.Markdown object>"
      ]
     },
     "metadata": {},
     "output_type": "display_data"
    },
    {
     "name": "stdout",
     "output_type": "stream",
     "text": [
      "\n",
      "\n",
      "\n"
     ]
    },
    {
     "data": {
      "text/markdown": [
       "7. 이 문제는 주어진 정보만으로는 완전히 해결할 수 없습니다. 하지만 일부 결론을 도출할 수 있습니다:\n",
       "\n",
       "1. 3명이 진실을 말하고 1명이 거짓말을 한다는 조건이 있습니다.\n",
       "\n",
       "2. C와 D는 서로를 범인이라고 지목하고 있습니다. 이 둘 중 한 명은 반드시 거짓말을 하고 있어야 합니다.\n",
       "\n",
       "3. 따라서 A와 B 중 한 명은 반드시 진실을 말하고 있습니다.\n",
       "\n",
       "4. 그러나 누가 진실을 말하고 누가 거짓말을 하는지, 그리고 누가 실제 범인인지는 이 정보만으로는 확실하게 결정할 수 없습니다.\n",
       "\n",
       "결론적으로, 이 문제는 주어진 정보만으로는 완전히 해결할 수 없습니다. 범인을 특정하거나 모든 사람의 진실/거짓 여부를 정확히 판단하기 위해서는 추가적인 정보가 필요합니다."
      ],
      "text/plain": [
       "<IPython.core.display.Markdown object>"
      ]
     },
     "metadata": {},
     "output_type": "display_data"
    },
    {
     "name": "stdout",
     "output_type": "stream",
     "text": [
      "\n",
      "\n",
      "\n"
     ]
    },
    {
     "data": {
      "text/markdown": [
       "8. ***"
      ],
      "text/plain": [
       "<IPython.core.display.Markdown object>"
      ]
     },
     "metadata": {},
     "output_type": "display_data"
    },
    {
     "name": "stdout",
     "output_type": "stream",
     "text": [
      "\n",
      "\n",
      "\n"
     ]
    },
    {
     "data": {
      "text/markdown": [
       "9. 이 문제는 주어진 정보만으로는 완전히 해결할 수 없습니다. 그 이유는 다음과 같습니다:\n",
       "\n",
       "1. 4명 중 3명이 진실을 말하고 1명이 거짓말을 한다는 것은 알지만, 누가 거짓말을 하는지 명확하지 않습니다.\n",
       "\n",
       "2. 각 사람의 진술만으로는 누가 범인인지 확실하게 결정할 수 없습니다.\n",
       "\n",
       "3. 여러 가지 가능한 시나리오가 존재합니다. 예를 들어:\n",
       "   - C가 범인이고 D가 거짓말을 하는 경우\n",
       "   - D가 범인이고 A, B, C 중 한 명이 거짓말을 하는 경우\n",
       "\n",
       "따라서 이 문제는 주어진 정보만으로는 유일한 해답을 도출할 수 없습니다. 추가적인 정보나 조건이 필요합니다."
      ],
      "text/plain": [
       "<IPython.core.display.Markdown object>"
      ]
     },
     "metadata": {},
     "output_type": "display_data"
    },
    {
     "name": "stdout",
     "output_type": "stream",
     "text": [
      "\n",
      "\n",
      "\n"
     ]
    },
    {
     "data": {
      "text/markdown": [
       "10. ***"
      ],
      "text/plain": [
       "<IPython.core.display.Markdown object>"
      ]
     },
     "metadata": {},
     "output_type": "display_data"
    },
    {
     "name": "stdout",
     "output_type": "stream",
     "text": [
      "\n",
      "\n",
      "\n"
     ]
    },
    {
     "data": {
      "text/markdown": [
       "## Model: claude-3-opus-20240229"
      ],
      "text/plain": [
       "<IPython.core.display.Markdown object>"
      ]
     },
     "metadata": {},
     "output_type": "display_data"
    },
    {
     "data": {
      "text/markdown": [
       "1. 이 문제는 해결할 수 있습니다.\n",
       "\n",
       "A가 거짓말을 하고 있다고 가정해 봅시다. 그렇다면 B는 범인이 아니므로 진실을 말하고 있어야 합니다. 그런데 B는 C가 범인이라고 말하고 있으므로 모순이 발생합니다.\n",
       "\n",
       "따라서 A는 진실을 말하고 있어야 하고, B는 거짓말을 하고 있어야 합니다. 그렇다면 C와 D도 진실을 말하고 있어야 논리적으로 모순이 없습니다.\n",
       "\n",
       "즉, B가 유일한 거짓말쟁이이자 범인입니다."
      ],
      "text/plain": [
       "<IPython.core.display.Markdown object>"
      ]
     },
     "metadata": {},
     "output_type": "display_data"
    },
    {
     "name": "stdout",
     "output_type": "stream",
     "text": [
      "\n",
      "\n",
      "\n"
     ]
    },
    {
     "data": {
      "text/markdown": [
       "2. ***"
      ],
      "text/plain": [
       "<IPython.core.display.Markdown object>"
      ]
     },
     "metadata": {},
     "output_type": "display_data"
    },
    {
     "name": "stdout",
     "output_type": "stream",
     "text": [
      "\n",
      "\n",
      "\n"
     ]
    },
    {
     "data": {
      "text/markdown": [
       "3. 이 문제는 해결할 수 없습니다. \n",
       "\n",
       "문제에서 주어진 조건만으로는 누가 진실을 말하고 누가 거짓말을 하는지 알 수 없기 때문입니다. \n",
       "\n",
       "A, B, C, D 각각의 진술이 진실인지 거짓인지 판단할 근거가 부족하여, 범인이 누구인지 논리적으로 추론해 낼 수 없는 상황입니다."
      ],
      "text/plain": [
       "<IPython.core.display.Markdown object>"
      ]
     },
     "metadata": {},
     "output_type": "display_data"
    },
    {
     "name": "stdout",
     "output_type": "stream",
     "text": [
      "\n",
      "\n",
      "\n"
     ]
    },
    {
     "data": {
      "text/markdown": [
       "4. ***"
      ],
      "text/plain": [
       "<IPython.core.display.Markdown object>"
      ]
     },
     "metadata": {},
     "output_type": "display_data"
    },
    {
     "name": "stdout",
     "output_type": "stream",
     "text": [
      "\n",
      "\n",
      "\n"
     ]
    },
    {
     "data": {
      "text/markdown": [
       "5. 이 문제는 해결할 수 있습니다. \n",
       "\n",
       "A, B, C, D 4명 중 3명은 진실을 말하고 1명은 거짓말을 한다고 했으므로, 범인은 진실을 말하는 사람이 지목한 사람이 됩니다.\n",
       "\n",
       "A가 진실을 말한다면, B는 거짓말쟁이가 되어 모순이 발생합니다. \n",
       "B가 진실을 말한다면, C는 거짓말쟁이가 되어 모순이 발생합니다.\n",
       "C가 진실을 말한다면, D는 거짓말쟁이가 되어 모순이 발생합니다.\n",
       "\n",
       "따라서 A, B, C가 거짓말을 하고 D가 유일하게 진실을 말하는 경우만 성립합니다. D는 C가 범인이라고 말했으므로 범인은 C입니다."
      ],
      "text/plain": [
       "<IPython.core.display.Markdown object>"
      ]
     },
     "metadata": {},
     "output_type": "display_data"
    },
    {
     "name": "stdout",
     "output_type": "stream",
     "text": [
      "\n",
      "\n",
      "\n"
     ]
    },
    {
     "data": {
      "text/markdown": [
       "6. ***"
      ],
      "text/plain": [
       "<IPython.core.display.Markdown object>"
      ]
     },
     "metadata": {},
     "output_type": "display_data"
    },
    {
     "name": "stdout",
     "output_type": "stream",
     "text": [
      "\n",
      "\n",
      "\n"
     ]
    },
    {
     "data": {
      "text/markdown": [
       "7. 이 문제는 해결할 수 없습니다. \n",
       "\n",
       "주어진 정보만으로는 누가 진실을 말하고 누가 거짓말을 하는지 알 수 없기 때문입니다. \n",
       "\n",
       "4명 중 3명이 진실을 말한다는 것은 알 수 있지만, 누가 그 3명인지는 알 수 없습니다. \n",
       "A, B, C, D 각각의 진술이 진실인지 거짓인지도 판단할 수 없습니다.\n",
       "\n",
       "따라서 이 문제는 주어진 정보만으로는 범인이 누구인지 특정할 수 없는, 해결 불가능한 문제입니다."
      ],
      "text/plain": [
       "<IPython.core.display.Markdown object>"
      ]
     },
     "metadata": {},
     "output_type": "display_data"
    },
    {
     "name": "stdout",
     "output_type": "stream",
     "text": [
      "\n",
      "\n",
      "\n"
     ]
    },
    {
     "data": {
      "text/markdown": [
       "8. ***"
      ],
      "text/plain": [
       "<IPython.core.display.Markdown object>"
      ]
     },
     "metadata": {},
     "output_type": "display_data"
    },
    {
     "name": "stdout",
     "output_type": "stream",
     "text": [
      "\n",
      "\n",
      "\n"
     ]
    },
    {
     "data": {
      "text/markdown": [
       "9. 이 문제는 해결할 수 없습니다. \n",
       "\n",
       "문제에서 제시된 조건만으로는 누가 진실을 말하고 누가 거짓말을 하는지 알 수 없기 때문입니다. \n",
       "\n",
       "만약 A가 진실을 말한다면, B는 거짓말을 하게 되고 C와 D 중 1명이 거짓말을 하게 됩니다. 하지만 C와 D의 진술이 서로 모순되기 때문에 누가 거짓말을 하는지 알 수 없습니다.\n",
       "\n",
       "A가 거짓말을 한다고 가정해도 B, C, D의 진술이 일관되지 않아 누가 범인인지 특정할 수 없습니다.\n",
       "\n",
       "따라서 주어진 정보만으로는 범인을 찾아낼 수 없으므로 이 문제는 해결 불가능합니다."
      ],
      "text/plain": [
       "<IPython.core.display.Markdown object>"
      ]
     },
     "metadata": {},
     "output_type": "display_data"
    },
    {
     "name": "stdout",
     "output_type": "stream",
     "text": [
      "\n",
      "\n",
      "\n"
     ]
    },
    {
     "data": {
      "text/markdown": [
       "10. ***"
      ],
      "text/plain": [
       "<IPython.core.display.Markdown object>"
      ]
     },
     "metadata": {},
     "output_type": "display_data"
    },
    {
     "name": "stdout",
     "output_type": "stream",
     "text": [
      "\n",
      "\n",
      "\n"
     ]
    },
    {
     "data": {
      "text/markdown": [
       "## Model: claude-3-haiku-20240307"
      ],
      "text/plain": [
       "<IPython.core.display.Markdown object>"
      ]
     },
     "metadata": {},
     "output_type": "display_data"
    },
    {
     "data": {
      "text/markdown": [
       "1. 이 문제는 해결할 수 없습니다.\n",
       "\n",
       "이유는 다음과 같습니다:\n",
       "\n",
       "1. 4명의 용의자 중 3명은 진실을 말하고 1명은 거짓말을 한다고 했는데, 이 정보만으로는 거짓말하는 사람이 누구인지 알 수 없습니다.\n",
       "\n",
       "2. A, B, C, D 각자가 한 말이 모순되고 있습니다. \n",
       "   - A는 B가 범인이라고 말하지만, B는 C가 범인이라고 말합니다.\n",
       "   - C는 D가 범인이라고 말하지만, D는 C가 범인이라고 말합니다.\n",
       "\n",
       "3. 누가 거짓말을 하고 있는지 알 수 없으므로, 실제 범인이 누구인지 결정할 수 없습니다.\n",
       "\n",
       "따라서 이 문제는 해결할 수 없습니다. 추가적인 정보가 필요할 것으로 보입니다."
      ],
      "text/plain": [
       "<IPython.core.display.Markdown object>"
      ]
     },
     "metadata": {},
     "output_type": "display_data"
    },
    {
     "name": "stdout",
     "output_type": "stream",
     "text": [
      "\n",
      "\n",
      "\n"
     ]
    },
    {
     "data": {
      "text/markdown": [
       "2. ***"
      ],
      "text/plain": [
       "<IPython.core.display.Markdown object>"
      ]
     },
     "metadata": {},
     "output_type": "display_data"
    },
    {
     "name": "stdout",
     "output_type": "stream",
     "text": [
      "\n",
      "\n",
      "\n"
     ]
    },
    {
     "data": {
      "text/markdown": [
       "3. 이 문제를 해결하기 위해서는 다음과 같은 방법을 사용할 수 있습니다.\n",
       "\n",
       "1. 각 용의자들의 진술을 순서대로 살펴봅시다.\n",
       "    - A는 B가 범인이라고 말하므로, B는 거짓말쟁이일 가능성이 있습니다.\n",
       "    - B는 C가 범인이라고 말하므로, B는 진실을 말하고 있습니다.\n",
       "    - C는 D가 범인이라고 말하므로, C는 거짓말쟁이일 가능성이 있습니다.\n",
       "    - D는 C가 범인이라고 말하므로, D는 진실을 말하고 있습니다.\n",
       "\n",
       "2. 위 내용을 종합해 보면, 진실을 말하는 사람은 B와 D, 거짓말을 하는 사람은 A와 C라는 결론을 내릴 수 있습니다.\n",
       "\n",
       "따라서 이 문제에 대한 해답은 범인은 C라고 할 수 있습니다."
      ],
      "text/plain": [
       "<IPython.core.display.Markdown object>"
      ]
     },
     "metadata": {},
     "output_type": "display_data"
    },
    {
     "name": "stdout",
     "output_type": "stream",
     "text": [
      "\n",
      "\n",
      "\n"
     ]
    },
    {
     "data": {
      "text/markdown": [
       "4. ***"
      ],
      "text/plain": [
       "<IPython.core.display.Markdown object>"
      ]
     },
     "metadata": {},
     "output_type": "display_data"
    },
    {
     "name": "stdout",
     "output_type": "stream",
     "text": [
      "\n",
      "\n",
      "\n"
     ]
    },
    {
     "data": {
      "text/markdown": [
       "5. 이 문제는 해결할 수 없습니다. \n",
       "\n",
       "이유는 다음과 같습니다:\n",
       "\n",
       "1. 4명의 용의자 중 3명은 진실을 말하고 1명은 거짓말을 한다고 했습니다.\n",
       "2. A는 B가 범인이라고 말했고, B는 C가 범인이라고 말했습니다.\n",
       "3. C는 D가 범인이라고 말했고, D는 C가 범인이라고 말했습니다.\n",
       "4. 이러한 진술들은 모순되어 있습니다. 만약 A, B, D가 진실을 말한다면 C가 범인이 되어야 하지만, C는 D가 범인이라고 말했습니다.\n",
       "5. 반대로 C가 진실을 말한다면 D가 범인이 되어야 하지만, D는 C가 범인이라고 말했습니다.\n",
       "6. 따라서 이 정보만으로는 누가 범인인지 확실하게 알 수 없습니다.\n",
       "\n",
       "결론적으로, 이 문제는 해결할 수 없습니다."
      ],
      "text/plain": [
       "<IPython.core.display.Markdown object>"
      ]
     },
     "metadata": {},
     "output_type": "display_data"
    },
    {
     "name": "stdout",
     "output_type": "stream",
     "text": [
      "\n",
      "\n",
      "\n"
     ]
    },
    {
     "data": {
      "text/markdown": [
       "6. ***"
      ],
      "text/plain": [
       "<IPython.core.display.Markdown object>"
      ]
     },
     "metadata": {},
     "output_type": "display_data"
    },
    {
     "name": "stdout",
     "output_type": "stream",
     "text": [
      "\n",
      "\n",
      "\n"
     ]
    },
    {
     "data": {
      "text/markdown": [
       "7. 이 문제를 해결하기 위해서는 다음과 같은 과정이 필요합니다:\n",
       "\n",
       "1. A는 B가 범인이라고 말했는데, B는 C가 범인이라고 말했습니다. 이 두 진술은 모순되므로, 둘 중 한 명은 거짓말을 하고 있습니다.\n",
       "\n",
       "2. C는 D가 범인이라고 말했고, D는 C가 범인이라고 말했습니다. 이 두 진술 역시 모순되므로, 둘 중 한 명은 거짓말을 하고 있습니다.\n",
       "\n",
       "3. 문제 설명에 따르면 4명의 용의자 중 3명은 진실을 말하고 1명은 거짓말을 하고 있습니다.\n",
       "\n",
       "4. 위의 두 가지 모순된 진술을 고려하면, 거짓말을 하는 사람은 A, B, C, D 중 한 명일 것입니다.\n",
       "\n",
       "5. 그러나 문제에서 제공된 정보만으로는 어떤 용의자가 거짓말을 하고 있는지 확실하게 알 수 없습니다.\n",
       "\n",
       "따라서 이 문제는 해결할 수 없습니다. 추가적인 정보가 필요합니다."
      ],
      "text/plain": [
       "<IPython.core.display.Markdown object>"
      ]
     },
     "metadata": {},
     "output_type": "display_data"
    },
    {
     "name": "stdout",
     "output_type": "stream",
     "text": [
      "\n",
      "\n",
      "\n"
     ]
    },
    {
     "data": {
      "text/markdown": [
       "8. ***"
      ],
      "text/plain": [
       "<IPython.core.display.Markdown object>"
      ]
     },
     "metadata": {},
     "output_type": "display_data"
    },
    {
     "name": "stdout",
     "output_type": "stream",
     "text": [
      "\n",
      "\n",
      "\n"
     ]
    },
    {
     "data": {
      "text/markdown": [
       "9. 이 문제에 대한 해결책을 찾기는 어렵습니다.\n",
       "\n",
       "주어진 정보만으로는 범인을 확실하게 특정할 수 없습니다. 아래와 같은 이유로 해결이 어려운 것 같습니다:\n",
       "\n",
       "1. 4명 중 3명은 진실을 말하고 1명은 거짓말을 한다고 했지만, 누가 거짓말을 하는지 알 수 없습니다.\n",
       "\n",
       "2. A, B, C, D 모두 다른 사람을 범인이라고 말하고 있어, 서로 모순된 진술이 있습니다.\n",
       "\n",
       "3. 만약 A, B, C가 진실을 말하고 D가 거짓말을 한다고 가정하면, D가 범인일 수 있습니다. 그러나 이 경우 D의 진술 내용이 사실이 될 수 없습니다.\n",
       "\n",
       "따라서 주어진 정보만으로는 범인을 특정할 수 없으며, 추가적인 단서나 정보가 필요할 것 같습니다. 이 문제는 해결할 수 없는 것으로 보입니다."
      ],
      "text/plain": [
       "<IPython.core.display.Markdown object>"
      ]
     },
     "metadata": {},
     "output_type": "display_data"
    },
    {
     "name": "stdout",
     "output_type": "stream",
     "text": [
      "\n",
      "\n",
      "\n"
     ]
    },
    {
     "data": {
      "text/markdown": [
       "10. ***"
      ],
      "text/plain": [
       "<IPython.core.display.Markdown object>"
      ]
     },
     "metadata": {},
     "output_type": "display_data"
    },
    {
     "name": "stdout",
     "output_type": "stream",
     "text": [
      "\n",
      "\n",
      "\n"
     ]
    }
   ],
   "source": [
    "compare_models()"
   ]
  },
  {
   "cell_type": "markdown",
   "id": "017c8bba",
   "metadata": {},
   "source": [
    "# 모델 파라미터 테스트"
   ]
  },
  {
   "cell_type": "code",
   "execution_count": null,
   "id": "77cb0d7c",
   "metadata": {},
   "outputs": [],
   "source": []
  }
 ],
 "metadata": {
  "kernelspec": {
   "display_name": "prompt_basic",
   "language": "python",
   "name": "python3"
  },
  "language_info": {
   "codemirror_mode": {
    "name": "ipython",
    "version": 3
   },
   "file_extension": ".py",
   "mimetype": "text/x-python",
   "name": "python",
   "nbconvert_exporter": "python",
   "pygments_lexer": "ipython3",
   "version": "3.13.2"
  }
 },
 "nbformat": 4,
 "nbformat_minor": 5
}
