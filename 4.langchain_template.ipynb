{
 "cells": [
  {
   "cell_type": "markdown",
   "id": "6ac79d2b",
   "metadata": {},
   "source": [
    "# 단일 입력 PromptTemplate"
   ]
  },
  {
   "cell_type": "code",
   "execution_count": 1,
   "id": "d6d588cc",
   "metadata": {},
   "outputs": [],
   "source": [
    "from langchain.prompts import PromptTemplate"
   ]
  },
  {
   "cell_type": "code",
   "execution_count": 4,
   "id": "7e31e7b9",
   "metadata": {},
   "outputs": [
    {
     "data": {
      "text/plain": [
       "'0.3.25'"
      ]
     },
     "execution_count": 4,
     "metadata": {},
     "output_type": "execute_result"
    }
   ],
   "source": [
    "import langchain\n",
    "langchain.__version__"
   ]
  },
  {
   "cell_type": "code",
   "execution_count": 8,
   "id": "6fb46cfa",
   "metadata": {},
   "outputs": [
    {
     "name": "stdout",
     "output_type": "stream",
     "text": [
      "당신은 최고 수준의 마케팅 카피라이터입니다. \n",
      "아래 제품의 매력적인 홍보 문구를 100자 내외로 작성하십시오. \n",
      "\n",
      "제품명: 이니스프리 한란 핸드크림\n"
     ]
    }
   ],
   "source": [
    "# 템플릿 작성 순서\n",
    "# 1. 템플릿 문자열: 프롬프트의 골격을 정의\n",
    "# 2. PromptTemplate 객체 생성: 인스턴스 변수 선언\n",
    "# 3. 포맷(format) 메서드 수행: PromptTemplate.format()\n",
    "# 4. LLM 호출\n",
    "\n",
    "# 템플릿 문자열 프롬프트 골격 작성\n",
    "template_str = (\n",
    "  \"당신은 최고 수준의 마케팅 카피라이터입니다. \\n\"\n",
    "  \"아래 제품의 매력적인 홍보 문구를 100자 내외로 작성하십시오. \\n\\n\"\n",
    "  \"제품명: {product_name}\"\n",
    ")\n",
    "\n",
    "# 인스턴스 변수 선언\n",
    "prompt = PromptTemplate.from_template(template_str)\n",
    "\n",
    "# 포맷 메서드 수행\n",
    "input_str = input(\"제품명을 입력하세요: \")\n",
    "formatted_prompt = prompt.format(product_name=input_str)\n",
    "print(formatted_prompt)"
   ]
  },
  {
   "cell_type": "code",
   "execution_count": 10,
   "id": "2ca0a406",
   "metadata": {},
   "outputs": [
    {
     "name": "stdout",
     "output_type": "stream",
     "text": [
      "자연의 힘을 담은 이니스프리 한란 핸드크림, 부드럽고 촉촉한 손 피부로 가꾸세요. 건강한 아름다움을 선사하는 자연의 선물!\n"
     ]
    }
   ],
   "source": [
    "from langchain_openai import ChatOpenAI\n",
    "\n",
    "llm = ChatOpenAI(model=\"gpt-4.1-nano\", temperature=0)\n",
    "\n",
    "chain = prompt | llm\n",
    "\n",
    "result = chain.invoke({\"product_name\": input_str})\n",
    "print(result.content)"
   ]
  },
  {
   "cell_type": "markdown",
   "id": "1a47752f",
   "metadata": {},
   "source": [
    "# 다중 입력 PromptTemplate"
   ]
  },
  {
   "cell_type": "code",
   "execution_count": 13,
   "id": "a57e2e1a",
   "metadata": {},
   "outputs": [
    {
     "name": "stdout",
     "output_type": "stream",
     "text": [
      "아래는 뉴스 기사 제목과 키워드입니다.\n",
      "이 정보를 바탕으로 한 문단으로 구성된 간략한 요약문을 작성하십시오.\n",
      "\n",
      "제목: 인공지능 기술의 발전과 미래\n",
      "키워드: 머신러닝, 딥러닝, 산업 혁신\n",
      "\n"
     ]
    }
   ],
   "source": [
    "multi_template_str = (\n",
    "  \"아래는 뉴스 기사 제목과 키워드입니다.\\n\"\n",
    "  \"이 정보를 바탕으로 한 문단으로 구성된 간략한 요약문을 작성하십시오.\\n\\n\"\n",
    "  \"제목: {title}\\n\"\n",
    "  \"키워드: {keywords}\\n\"\n",
    ")\n",
    "\n",
    "summary_prompt = PromptTemplate(template=multi_template_str, input_variables=[\"title\", \"keywords\"])\n",
    "\n",
    "sample_title = \"인공지능 기술의 발전과 미래\"\n",
    "sample_keywords = \"머신러닝, 딥러닝, 산업 혁신\"\n",
    "formatted_summary_prompt = summary_prompt.format(title=sample_title, keywords=sample_keywords)\n",
    "print(formatted_summary_prompt)"
   ]
  },
  {
   "cell_type": "code",
   "execution_count": 14,
   "id": "83cf052d",
   "metadata": {},
   "outputs": [
    {
     "name": "stdout",
     "output_type": "stream",
     "text": [
      "인공지능 기술은 머신러닝과 딥러닝의 발전을 바탕으로 빠르게 진화하며 산업 전반에 혁신을 일으키고 있습니다. 이러한 기술들은 데이터 분석과 자동화 능력을 향상시켜 다양한 분야에서 효율성을 높이고 있으며, 앞으로도 지속적인 연구와 개발을 통해 미래 산업의 핵심 동력으로 자리 잡을 것으로 기대됩니다.\n"
     ]
    }
   ],
   "source": [
    "result_summary = (summary_prompt | llm).invoke({\n",
    "  \"title\": sample_title,\n",
    "  \"keywords\": sample_keywords\n",
    "})\n",
    "print(result_summary.content)"
   ]
  },
  {
   "cell_type": "markdown",
   "id": "3cc72016",
   "metadata": {},
   "source": [
    "# ChatPromptTemplate\n",
    "- 역할 기반 프롬프트"
   ]
  },
  {
   "cell_type": "code",
   "execution_count": 15,
   "id": "5562f402",
   "metadata": {},
   "outputs": [],
   "source": [
    "from langchain.prompts import ChatPromptTemplate"
   ]
  },
  {
   "cell_type": "code",
   "execution_count": 21,
   "id": "38729180",
   "metadata": {},
   "outputs": [
    {
     "name": "stdout",
     "output_type": "stream",
     "text": [
      "[SystemMessage(content='당신은 파이썬 분야의 뛰어난 시니어 전문가이자 조언자입니다.\\n사용자의 프로그래밍 질문에 재밌고 한번에 이해하기 쉽게 답변하십시오.\\n', additional_kwargs={}, response_metadata={}), HumanMessage(content='파이썬의 리스트 컴프리헨션(list comprehension)과 map 함수의 차이가 뭐야?', additional_kwargs={}, response_metadata={})]\n"
     ]
    }
   ],
   "source": [
    "# 시나리오: 파이썬 프로그램 전문가 역할 부여, 사용자가 파이썬 관련 질문에 친절히, 간결한 답변하도록\n",
    "sys_message = (\n",
    "              \"당신은 파이썬 분야의 뛰어난 시니어 전문가이자 조언자입니다.\\n\"\n",
    "              \"사용자의 프로그래밍 질문에 재밌고 한번에 이해하기 쉽게 답변하십시오.\\n\"\n",
    "              )\n",
    "\n",
    "user_message = \"{question}\" # 사용자 질문 -> 실행 시 입력값으로 채워진다.\n",
    "\n",
    "chat_prompt = ChatPromptTemplate.from_messages([\n",
    "  (\"system\", sys_message),\n",
    "  (\"user\", user_message)\n",
    "])\n",
    "\n",
    "sample_question = \"파이썬의 리스트 컴프리헨션(list comprehension)과 map 함수의 차이가 뭐야?\"\n",
    "\n",
    "message = chat_prompt.format_messages(question=sample_question)\n",
    "print(message)"
   ]
  },
  {
   "cell_type": "code",
   "execution_count": 23,
   "id": "05f1bf15",
   "metadata": {},
   "outputs": [
    {
     "name": "stdout",
     "output_type": "stream",
     "text": [
      "아하! 리스트 컴프리헨션과 map 함수는 둘 다 파이썬에서 반복 작업을 깔끔하게 처리하는 멋진 도구들이야. 하지만 각각의 특징과 차이점이 있지!\n",
      "\n",
      "1. **리스트 컴프리헨션 (List Comprehension)**:\n",
      "   - 문법이 간단하고 직관적이야.\n",
      "   - `[표현식 for 변수 in 반복가능객체 if 조건]` 형태로 사용돼.\n",
      "   - 조건문도 넣을 수 있어서 필터링도 가능!\n",
      "   - 예를 들어, 0부터 9까지의 제곱을 리스트로 만들고 싶을 때:\n",
      "     ```python\n",
      "     squares = [x**2 for x in range(10)]\n",
      "     ```\n",
      "   - 읽기 쉽고, 여러 조건이나 복잡한 표현도 넣기 좋아.\n",
      "\n",
      "2. **map 함수**:\n",
      "   - 함수와 반복가능한 객체를 인자로 받아서, 각각의 요소에 함수를 적용해.\n",
      "   - `map(함수, 반복가능객체)` 형태.\n",
      "   - 결과는 map 객체이기 때문에, 리스트로 바꾸려면 `list()`로 감싸야 해.\n",
      "   - 예를 들어, 같은 제곱을 구하려면:\n",
      "     ```python\n",
      "     def square(x):\n",
      "         return x**2\n",
      "     squares = list(map(square, range(10)))\n",
      "     ```\n",
      "   - 함수가 이미 정의되어 있거나, 람다 함수와 함께 쓰면 깔끔해.\n",
      "\n",
      "---\n",
      "\n",
      "### 차이점 정리!\n",
      "| 특징 | 리스트 컴프리헨션 | map 함수 |\n",
      "|---|---|---|\n",
      "| 문법 | `[표현식 for 변수 in 반복객체 if 조건]` | `map(함수, 반복객체)` |\n",
      "| 가독성 | 간단하고 직관적 | 함수와 함께 쓰기 좋아 |\n",
      "| 조건문 | 바로 넣을 수 있음 | 별도 필터링 필요 (filter()와 함께 사용 가능) |\n",
      "| 반환값 | 바로 리스트 | map 객체 (리스트로 바꾸기 필요) |\n",
      "| 복잡한 표현 | 가능 | 가능하지만, 가독성 떨어질 수 있음 |\n",
      "\n",
      "---\n",
      "\n",
      "### 결론!\n",
      "- **간단하고 직관적**인 경우엔 리스트 컴프리헨션 추천!\n",
      "- **함수로 복잡한 작업**을 할 때는 map이 유용!\n",
      "\n",
      "궁금한 점 있으면 언제든 물어봐!\n"
     ]
    }
   ],
   "source": [
    "result = (chat_prompt | llm).invoke({\"question\", sample_question})\n",
    "print(result.content)"
   ]
  },
  {
   "cell_type": "markdown",
   "id": "6dd5cb3f",
   "metadata": {},
   "source": [
    "# PartialPromptTemplate"
   ]
  },
  {
   "cell_type": "code",
   "execution_count": 24,
   "id": "e073fbd7",
   "metadata": {},
   "outputs": [],
   "source": [
    "from langchain.prompts import SystemMessagePromptTemplate\n",
    "from langchain.prompts import HumanMessagePromptTemplate"
   ]
  },
  {
   "cell_type": "code",
   "execution_count": 25,
   "id": "895ee059",
   "metadata": {},
   "outputs": [],
   "source": [
    "role_system_template = \"당신은 {role} 분야의 전문 지식인입니다. 가능한 한 자세히 답변해주세요.\"\n",
    "system_prompt = SystemMessagePromptTemplate.from_template(role_system_template)\n",
    "user_prompt = HumanMessagePromptTemplate.from_template(\"{question}\")\n",
    "\n",
    "base_chat_prompt = ChatPromptTemplate.from_messages([system_prompt, user_prompt])\n",
    "\n",
    "partial_chat_prompt = base_chat_prompt.partial(role=\"주식 투자\")"
   ]
  },
  {
   "cell_type": "code",
   "execution_count": 26,
   "id": "893e4939",
   "metadata": {},
   "outputs": [
    {
     "name": "stdout",
     "output_type": "stream",
     "text": [
      "[SystemMessage(content='당신은 주식 투자 분야의 전문 지식인입니다. 가능한 한 자세히 답변해주세요.', additional_kwargs={}, response_metadata={}), HumanMessage(content='현재 2025년 6월 시장 상황에서 테슬라 주식 전망은 어떻습니까?', additional_kwargs={}, response_metadata={})]\n"
     ]
    }
   ],
   "source": [
    "sample_question = \"현재 2025년 6월 시장 상황에서 테슬라 주식 전망은 어떻습니까?\"\n",
    "message = partial_chat_prompt.format_messages(question=sample_question)\n",
    "print(message)"
   ]
  },
  {
   "cell_type": "code",
   "execution_count": 29,
   "id": "4766d648",
   "metadata": {},
   "outputs": [
    {
     "name": "stdout",
     "output_type": "stream",
     "text": [
      "2025년 6월 현재 시장 상황을 고려할 때, 테슬라(Tesla)의 주식 전망은 여러 요인에 따라 긍정적일 수도, 부정적일 수도 있습니다. 아래에 주요 분석 포인트를 상세히 설명드리겠습니다.\n",
      "\n",
      "1. **기술 혁신과 제품 라인업 확장**  \n",
      "테슬라는 지속적으로 신기술 개발과 신차 모델 출시를 통해 경쟁력을 강화하고 있습니다. 2025년 현재, 자율주행 기술, 배터리 성능 향상, 신차 모델(예: 사이버트럭, 신형 세단 등)의 출시가 시장 기대를 모으고 있으며, 이는 매출 성장과 수익성 향상에 긍정적 영향을 미칠 수 있습니다.\n",
      "\n",
      "2. **생산 능력과 글로벌 시장 확대**  \n",
      "테슬라는 미국, 중국, 유럽 등 주요 시장에서 생산 시설을 확장하며 글로벌 공급망을 강화하고 있습니다. 생산 능력 증대는 수요를 충족시키고, 가격 경쟁력을 높여 시장 점유율을 확대하는 데 기여할 수 있습니다.\n",
      "\n",
      "3. **경쟁 환경과 시장 점유율**  \n",
      "전기차 시장은 계속해서 경쟁이 치열해지고 있습니다. 전통 자동차 제조사뿐만 아니라 신생 기업들도 전기차 시장에 적극 진입하고 있어, 테슬라의 시장 점유율 유지와 확대가 중요한 변수입니다. 경쟁사들의 기술 발전과 가격 정책이 테슬라의 수익성에 영향을 미칠 수 있습니다.\n",
      "\n",
      "4. **규제와 정책 환경**  \n",
      "각국 정부의 친환경 정책, 탄소 배출 규제 강화, 전기차 보조금 정책 등은 테슬라의 판매와 수익성에 긍정적 영향을 미칠 수 있습니다. 특히 유럽과 중국에서의 정책 변화는 중요한 변수입니다.\n",
      "\n",
      "5. **재무 상태와 주가 평가**  \n",
      "2025년 현재, 테슬라는 여전히 높은 성장 기대를 반영하는 고평가된 주식으로 평가받고 있습니다. 그러나, 실적 발표와 시장 기대치, 그리고 글로벌 경제 상황에 따라 주가 변동성이 클 수 있습니다.\n",
      "\n",
      "6. **거시경제 및 금융시장 동향**  \n",
      "금리 인상, 인플레이션, 글로벌 경기 둔화 등은 소비자 구매력과 기업 투자에 영향을 미쳐 전기차 수요에 영향을 줄 수 있습니다. 이러한 요인들이 부정적이면, 테슬라 주가에 압력을 가할 수 있습니다.\n",
      "\n",
      "---\n",
      "\n",
      "### 결론 및 전망\n",
      "\n",
      "- **긍정적 요인:** 기술 혁신, 글로벌 시장 확대, 친환경 정책 강화, 배터리 및 자율주행 기술의 선도적 위치  \n",
      "- **부정적 요인:** 경쟁 심화, 고평가 우려, 글로벌 경제 불확실성, 규제 변화\n",
      "\n",
      "**전망:** 2025년 6월 기준으로, 테슬라는 여전히 전기차 시장의 선도자로서 강력한 성장 잠재력을 보유하고 있지만, 시장의 기대와 현실 사이의 차이, 경쟁 심화, 글로벌 경제 상황에 따라 주가 변동성이 클 수 있습니다. 투자 시에는 장기적 성장 가능성과 단기적 시장 변동성을 모두 고려하는 것이 중요하며, 분산 투자와 신중한 리스크 관리가 필요합니다.\n",
      "\n",
      "---\n",
      "\n",
      "추가로, 최신 재무제표, 시장 동향, 기술 개발 소식 등을 지속적으로 모니터링하는 것이 투자 판단에 큰 도움이 될 것입니다.\n"
     ]
    }
   ],
   "source": [
    "result = (partial_chat_prompt | llm).invoke({\"question\", sample_question})\n",
    "print(result.content)"
   ]
  },
  {
   "cell_type": "code",
   "execution_count": null,
   "id": "3ea1c40a",
   "metadata": {},
   "outputs": [],
   "source": []
  }
 ],
 "metadata": {
  "kernelspec": {
   "display_name": "prompt_basic",
   "language": "python",
   "name": "python3"
  },
  "language_info": {
   "codemirror_mode": {
    "name": "ipython",
    "version": 3
   },
   "file_extension": ".py",
   "mimetype": "text/x-python",
   "name": "python",
   "nbconvert_exporter": "python",
   "pygments_lexer": "ipython3",
   "version": "3.13.2"
  }
 },
 "nbformat": 4,
 "nbformat_minor": 5
}
